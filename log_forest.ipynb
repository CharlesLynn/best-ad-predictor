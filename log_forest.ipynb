{
 "cells": [
  {
   "cell_type": "code",
   "execution_count": 1,
   "metadata": {
    "collapsed": false
   },
   "outputs": [],
   "source": [
    "import pandas as pd\n",
    "from sklearn.linear_model import LogisticRegression\n",
    "from sklearn.ensemble import GradientBoostingClassifier\n",
    "from sklearn.cross_validation import cross_val_score\n",
    "from sklearn.grid_search import GridSearchCV\n",
    "import numpy as np\n",
    "import matplotlib.pyplot as plt\n",
    "%matplotlib inline"
   ]
  },
  {
   "cell_type": "code",
   "execution_count": 2,
   "metadata": {
    "collapsed": false
   },
   "outputs": [],
   "source": [
    "df = pd.read_csv('training.csv', names=['Timestamp', 'Hour', 'Ad', 'Browser', 'Platform', 'Region', 'Clicked'])"
   ]
  },
  {
   "cell_type": "code",
   "execution_count": 4,
   "metadata": {
    "collapsed": false
   },
   "outputs": [],
   "source": [
    "# Drop 'Browser' and 'Platform'.\n",
    "df.drop(['Timestamp', 'Browser', 'Platform'], axis=1, inplace=True)"
   ]
  },
  {
   "cell_type": "code",
   "execution_count": 5,
   "metadata": {
    "collapsed": false
   },
   "outputs": [],
   "source": [
    "# Dummy Region to binary features\n",
    "df_log = pd.concat([df, pd.get_dummies(df['Region'])], axis=1).drop('Region', axis=1)"
   ]
  },
  {
   "cell_type": "code",
   "execution_count": 6,
   "metadata": {
    "collapsed": false
   },
   "outputs": [
    {
     "data": {
      "text/html": [
       "<div>\n",
       "<table border=\"1\" class=\"dataframe\">\n",
       "  <thead>\n",
       "    <tr style=\"text-align: right;\">\n",
       "      <th></th>\n",
       "      <th>Hour</th>\n",
       "      <th>Ad</th>\n",
       "      <th>Clicked</th>\n",
       "      <th>Africa</th>\n",
       "      <th>Asia</th>\n",
       "      <th>Australia</th>\n",
       "      <th>Europe</th>\n",
       "      <th>North America</th>\n",
       "      <th>South America</th>\n",
       "    </tr>\n",
       "  </thead>\n",
       "  <tbody>\n",
       "    <tr>\n",
       "      <th>0</th>\n",
       "      <td>5</td>\n",
       "      <td>Candy Smash</td>\n",
       "      <td>1</td>\n",
       "      <td>0</td>\n",
       "      <td>0</td>\n",
       "      <td>0</td>\n",
       "      <td>0</td>\n",
       "      <td>0</td>\n",
       "      <td>1</td>\n",
       "    </tr>\n",
       "    <tr>\n",
       "      <th>1</th>\n",
       "      <td>6</td>\n",
       "      <td>Candy Smash</td>\n",
       "      <td>0</td>\n",
       "      <td>0</td>\n",
       "      <td>0</td>\n",
       "      <td>0</td>\n",
       "      <td>1</td>\n",
       "      <td>0</td>\n",
       "      <td>0</td>\n",
       "    </tr>\n",
       "    <tr>\n",
       "      <th>2</th>\n",
       "      <td>4</td>\n",
       "      <td>Clash of Tribes</td>\n",
       "      <td>0</td>\n",
       "      <td>0</td>\n",
       "      <td>0</td>\n",
       "      <td>0</td>\n",
       "      <td>0</td>\n",
       "      <td>1</td>\n",
       "      <td>0</td>\n",
       "    </tr>\n",
       "    <tr>\n",
       "      <th>3</th>\n",
       "      <td>7</td>\n",
       "      <td>Clash of Tribes</td>\n",
       "      <td>0</td>\n",
       "      <td>0</td>\n",
       "      <td>0</td>\n",
       "      <td>1</td>\n",
       "      <td>0</td>\n",
       "      <td>0</td>\n",
       "      <td>0</td>\n",
       "    </tr>\n",
       "    <tr>\n",
       "      <th>4</th>\n",
       "      <td>16</td>\n",
       "      <td>NBA Jam</td>\n",
       "      <td>0</td>\n",
       "      <td>0</td>\n",
       "      <td>0</td>\n",
       "      <td>0</td>\n",
       "      <td>0</td>\n",
       "      <td>1</td>\n",
       "      <td>0</td>\n",
       "    </tr>\n",
       "  </tbody>\n",
       "</table>\n",
       "</div>"
      ],
      "text/plain": [
       "   Hour               Ad  Clicked  Africa  Asia  Australia  Europe  \\\n",
       "0     5      Candy Smash        1       0     0          0       0   \n",
       "1     6      Candy Smash        0       0     0          0       1   \n",
       "2     4  Clash of Tribes        0       0     0          0       0   \n",
       "3     7  Clash of Tribes        0       0     0          1       0   \n",
       "4    16          NBA Jam        0       0     0          0       0   \n",
       "\n",
       "   North America  South America  \n",
       "0              0              1  \n",
       "1              0              0  \n",
       "2              1              0  \n",
       "3              0              0  \n",
       "4              1              0  "
      ]
     },
     "execution_count": 6,
     "metadata": {},
     "output_type": "execute_result"
    }
   ],
   "source": [
    "df_log.head()"
   ]
  },
  {
   "cell_type": "code",
   "execution_count": 7,
   "metadata": {
    "collapsed": false
   },
   "outputs": [],
   "source": [
    "for col in df_log.columns[3:]:\n",
    "    df_log[col] =  df_log[col]*df_log['Hour']"
   ]
  },
  {
   "cell_type": "code",
   "execution_count": 8,
   "metadata": {
    "collapsed": false
   },
   "outputs": [],
   "source": [
    "for col in df_log.columns[3:]:\n",
    "    df_dummy = pd.get_dummies(df_log[col])\n",
    "    df_dummy.columns = [col+'_'+str(x) for x in df_dummy.columns]\n",
    "    df_log = pd.concat([df_log, df_dummy], axis=1).drop(col, axis=1)"
   ]
  },
  {
   "cell_type": "code",
   "execution_count": 9,
   "metadata": {
    "collapsed": false
   },
   "outputs": [
    {
     "name": "stdout",
     "output_type": "stream",
     "text": [
      "Candy Smash [ 0.77217125  0.72588055  0.77794793  0.73353752  0.78713629] 0.759334710183\n",
      "Clash of Tribes [ 0.73195876  0.74521355  0.77286136  0.74926254  0.73156342] 0.746171925572\n",
      "NBA Jam [ 0.59641256  0.59641256  0.6038864   0.62874251  0.5952024 ] 0.604131284697\n",
      "0.703212640151\n"
     ]
    }
   ],
   "source": [
    "overall_scores = []\n",
    "for ad in df_log.Ad.unique():\n",
    "    X = df_log[df_log.Ad == ad].drop(['Hour', 'Ad', 'Clicked'], axis=1)\n",
    "    y = df_log[df_log.Ad == ad]['Clicked']\n",
    "    \n",
    "    model = LogisticRegression()\n",
    "    scores = cross_val_score(model, X, y, cv=5)\n",
    "    #overall_scores.append(scores.mean())\n",
    "    overall_scores.extend(scores)\n",
    "    print ad, scores, scores.mean()\n",
    "\n",
    "print sum(overall_scores)/len(overall_scores)"
   ]
  },
  {
   "cell_type": "code",
   "execution_count": 35,
   "metadata": {
    "collapsed": false
   },
   "outputs": [
    {
     "name": "stdout",
     "output_type": "stream",
     "text": [
      "Candy Smash 0.759338640539\n",
      "LogisticRegression(C=0.5, class_weight=None, dual=False, fit_intercept=True,\n",
      "          intercept_scaling=1, max_iter=100, multi_class='ovr', n_jobs=1,\n",
      "          penalty='l2', random_state=None, solver='liblinear', tol=0.0001,\n",
      "          verbose=0, warm_start=False)\n",
      "Clash of Tribes 0.750589622642\n",
      "LogisticRegression(C=1.0, class_weight=None, dual=False, fit_intercept=True,\n",
      "          intercept_scaling=1, max_iter=100, multi_class='ovr', n_jobs=1,\n",
      "          penalty='l2', random_state=None, solver='liblinear', tol=0.0001,\n",
      "          verbose=0, warm_start=False)\n",
      "NBA Jam 0.603830041891\n",
      "LogisticRegression(C=0.001, class_weight=None, dual=False, fit_intercept=True,\n",
      "          intercept_scaling=1, max_iter=100, multi_class='ovr', n_jobs=1,\n",
      "          penalty='l2', random_state=None, solver='liblinear', tol=0.0001,\n",
      "          verbose=0, warm_start=False)\n",
      "\n",
      "Overall Score: 0.70458610169\n"
     ]
    }
   ],
   "source": [
    "overall_scores = []\n",
    "for ad in df_log.Ad.unique():\n",
    "    X = df_log[df_log.Ad == ad].drop(['Hour', 'Ad', 'Clicked'], axis=1)\n",
    "    y = df_log[df_log.Ad == ad]['Clicked']\n",
    "    \n",
    "    \n",
    "    C_list = [round(x,3) for x in list(np.linspace(0.0005, 1, 5))]\n",
    "    param_grid = [{'C': C_list, 'penalty':['l2']}]\n",
    "    clf = GridSearchCV(LogisticRegression(), param_grid, cv= 3, n_jobs=1)\n",
    "    clf.fit(X, y)\n",
    "    overall_scores.append(clf.best_score_)\n",
    "    print ad, clf.best_score_\n",
    "    print clf.best_estimator_\n",
    "\n",
    "print \"\\nOverall Score:\", sum(overall_scores)/len(overall_scores)"
   ]
  },
  {
   "cell_type": "markdown",
   "metadata": {},
   "source": [
    "# Testing"
   ]
  },
  {
   "cell_type": "code",
   "execution_count": null,
   "metadata": {
    "collapsed": false
   },
   "outputs": [],
   "source": [
    "ad_models = {}\n",
    "for ad in df_log.Ad.unique():\n",
    "    X = df_log[df_log.Ad == ad].drop(['Hour', 'Ad', 'Clicked'], axis=1)\n",
    "    y = df_log[df_log.Ad == ad]['Clicked']\n",
    "    \n",
    "    model = LogisticRegression(penalty='l2')\n",
    "    ad_models[ad] = model.fit(X, y)\n",
    "print ad_models"
   ]
  },
  {
   "cell_type": "code",
   "execution_count": null,
   "metadata": {
    "collapsed": false
   },
   "outputs": [],
   "source": [
    "for ad, clf in ad_models.iteritems():\n",
    "    X = df_log[df_log.Ad == ad].drop(['Hour', 'Ad', 'Clicked'], axis=1)\n",
    "    y = df_log[df_log.Ad == ad]['Clicked']"
   ]
  },
  {
   "cell_type": "code",
   "execution_count": null,
   "metadata": {
    "collapsed": false
   },
   "outputs": [],
   "source": [
    "df_log.head(3)"
   ]
  },
  {
   "cell_type": "code",
   "execution_count": null,
   "metadata": {
    "collapsed": false
   },
   "outputs": [],
   "source": [
    "df_log['Click_prob'] = np.zeros(len(df_log))\n",
    "for ad in df_log.Ad.unique():\n",
    "    X = df_log[df_log.Ad == ad].drop(['Hour', 'Ad', 'Clicked', 'Click_prob'], axis=1)\n",
    "    pred_prob = ad_models[ad].predict_proba(X)[:,0].reshape(-1, 1)\n",
    "    df_log[df_log.Ad == ad]['Click_prob'] = pred_prob\n"
   ]
  },
  {
   "cell_type": "code",
   "execution_count": null,
   "metadata": {
    "collapsed": false
   },
   "outputs": [],
   "source": [
    "for row in df_lterrows():\n",
    "    print row[1]\n",
    "    \n",
    "    "
   ]
  },
  {
   "cell_type": "markdown",
   "metadata": {},
   "source": [
    "# Tree Models (Non-binary Features)"
   ]
  },
  {
   "cell_type": "code",
   "execution_count": 37,
   "metadata": {
    "collapsed": false
   },
   "outputs": [],
   "source": [
    "df_tree = pd.read_csv('training.csv', names=['Timestamp', 'Hour', 'Ad', 'Browser', 'Platform', 'Region', 'Clicked'])"
   ]
  },
  {
   "cell_type": "code",
   "execution_count": 38,
   "metadata": {
    "collapsed": true
   },
   "outputs": [],
   "source": [
    "# Create 'Hour' as a float.\n",
    "# df_tree['Hour'] = df_tree['Timestamp'].apply(lambda x: round(float(x.split(':')[0][-2:]) + \\\n",
    "#     float(x.split(':')[1])/60, 2))\n",
    "# df_tree.drop('Timestamp', axis=1, inplace=True)"
   ]
  },
  {
   "cell_type": "code",
   "execution_count": 39,
   "metadata": {
    "collapsed": false
   },
   "outputs": [],
   "source": [
    "# Create 'Hour' as a float rounded to the closed half hour.\n",
    "df_tree['Hour'] = df_tree['Timestamp'].apply(lambda x: round((float(x.split(':')[0][-2:]) + \\\n",
    "    float(x.split(':')[1])/60)*2, 0)/2)"
   ]
  },
  {
   "cell_type": "code",
   "execution_count": 40,
   "metadata": {
    "collapsed": true
   },
   "outputs": [],
   "source": [
    "df_tree.drop('Timestamp', axis=1, inplace=True)"
   ]
  },
  {
   "cell_type": "code",
   "execution_count": 41,
   "metadata": {
    "collapsed": false
   },
   "outputs": [],
   "source": [
    "# Convert Catigorical strings to ints for modeling.\n",
    "for col in ['Ad', 'Browser', 'Platform', 'Region']:\n",
    "    catigories = list(df_tree[col].unique())\n",
    "    df_tree[col] = df_tree[col].apply(lambda x: catigories.index(x))"
   ]
  },
  {
   "cell_type": "code",
   "execution_count": 42,
   "metadata": {
    "collapsed": false
   },
   "outputs": [
    {
     "data": {
      "text/html": [
       "<div>\n",
       "<table border=\"1\" class=\"dataframe\">\n",
       "  <thead>\n",
       "    <tr style=\"text-align: right;\">\n",
       "      <th></th>\n",
       "      <th>Hour</th>\n",
       "      <th>Ad</th>\n",
       "      <th>Browser</th>\n",
       "      <th>Platform</th>\n",
       "      <th>Region</th>\n",
       "      <th>Clicked</th>\n",
       "    </tr>\n",
       "  </thead>\n",
       "  <tbody>\n",
       "    <tr>\n",
       "      <th>0</th>\n",
       "      <td>5.5</td>\n",
       "      <td>0</td>\n",
       "      <td>0</td>\n",
       "      <td>0</td>\n",
       "      <td>0</td>\n",
       "      <td>1</td>\n",
       "    </tr>\n",
       "    <tr>\n",
       "      <th>1</th>\n",
       "      <td>7.0</td>\n",
       "      <td>0</td>\n",
       "      <td>1</td>\n",
       "      <td>0</td>\n",
       "      <td>1</td>\n",
       "      <td>0</td>\n",
       "    </tr>\n",
       "    <tr>\n",
       "      <th>2</th>\n",
       "      <td>4.5</td>\n",
       "      <td>1</td>\n",
       "      <td>2</td>\n",
       "      <td>1</td>\n",
       "      <td>2</td>\n",
       "      <td>0</td>\n",
       "    </tr>\n",
       "    <tr>\n",
       "      <th>3</th>\n",
       "      <td>7.0</td>\n",
       "      <td>1</td>\n",
       "      <td>3</td>\n",
       "      <td>1</td>\n",
       "      <td>3</td>\n",
       "      <td>0</td>\n",
       "    </tr>\n",
       "    <tr>\n",
       "      <th>4</th>\n",
       "      <td>16.5</td>\n",
       "      <td>2</td>\n",
       "      <td>4</td>\n",
       "      <td>2</td>\n",
       "      <td>2</td>\n",
       "      <td>0</td>\n",
       "    </tr>\n",
       "  </tbody>\n",
       "</table>\n",
       "</div>"
      ],
      "text/plain": [
       "   Hour  Ad  Browser  Platform  Region  Clicked\n",
       "0   5.5   0        0         0       0        1\n",
       "1   7.0   0        1         0       1        0\n",
       "2   4.5   1        2         1       2        0\n",
       "3   7.0   1        3         1       3        0\n",
       "4  16.5   2        4         2       2        0"
      ]
     },
     "execution_count": 42,
     "metadata": {},
     "output_type": "execute_result"
    }
   ],
   "source": [
    "df_tree.head()"
   ]
  },
  {
   "cell_type": "code",
   "execution_count": 43,
   "metadata": {
    "collapsed": false
   },
   "outputs": [
    {
     "ename": "NameError",
     "evalue": "name 'RandomForestClassifier' is not defined",
     "output_type": "error",
     "traceback": [
      "\u001b[0;31m---------------------------------------------------------------------------\u001b[0m",
      "\u001b[0;31mNameError\u001b[0m                                 Traceback (most recent call last)",
      "\u001b[0;32m<ipython-input-43-82f372e3141b>\u001b[0m in \u001b[0;36m<module>\u001b[0;34m()\u001b[0m\n\u001b[1;32m      3\u001b[0m     \u001b[0my\u001b[0m \u001b[0;34m=\u001b[0m \u001b[0mdf_tree\u001b[0m\u001b[0;34m[\u001b[0m\u001b[0;34m'Clicked'\u001b[0m\u001b[0;34m]\u001b[0m\u001b[0;34m\u001b[0m\u001b[0m\n\u001b[1;32m      4\u001b[0m \u001b[0;34m\u001b[0m\u001b[0m\n\u001b[0;32m----> 5\u001b[0;31m     \u001b[0mmodel\u001b[0m \u001b[0;34m=\u001b[0m \u001b[0mRandomForestClassifier\u001b[0m\u001b[0;34m(\u001b[0m\u001b[0mn_estimators\u001b[0m\u001b[0;34m=\u001b[0m\u001b[0mn_estimators\u001b[0m\u001b[0;34m)\u001b[0m\u001b[0;34m\u001b[0m\u001b[0m\n\u001b[0m\u001b[1;32m      6\u001b[0m     \u001b[0mscores\u001b[0m \u001b[0;34m=\u001b[0m \u001b[0mcross_val_score\u001b[0m\u001b[0;34m(\u001b[0m\u001b[0mmodel\u001b[0m\u001b[0;34m,\u001b[0m \u001b[0mX\u001b[0m\u001b[0;34m,\u001b[0m \u001b[0my\u001b[0m\u001b[0;34m,\u001b[0m \u001b[0mcv\u001b[0m\u001b[0;34m=\u001b[0m\u001b[0;36m5\u001b[0m\u001b[0;34m)\u001b[0m\u001b[0;34m\u001b[0m\u001b[0m\n\u001b[1;32m      7\u001b[0m \u001b[0;34m\u001b[0m\u001b[0m\n",
      "\u001b[0;31mNameError\u001b[0m: name 'RandomForestClassifier' is not defined"
     ]
    }
   ],
   "source": [
    "for n_estimators in range(1, 15):\n",
    "    X = df_tree[['Hour', 'Region', 'Ad']]\n",
    "    y = df_tree['Clicked']\n",
    "\n",
    "    model = RandomForestClassifier(n_estimators=n_estimators)\n",
    "    scores = cross_val_score(model, X, y, cv=5)\n",
    "\n",
    "    print n_estimators, scores.mean()"
   ]
  },
  {
   "cell_type": "code",
   "execution_count": null,
   "metadata": {
    "collapsed": false
   },
   "outputs": [],
   "source": [
    "train_scores = []\n",
    "test_scores = []\n",
    "n_estimators = range(5, 150, 2)\n",
    "\n",
    "for n_est in n_estimators:\n",
    "    X = df_tree.drop(['Clicked', 'Platform', 'Browser'], axis=1)\n",
    "    y = df_tree['Clicked']\n",
    "\n",
    "    model = GradientBoostingClassifier(n_estimators=n_est, max_depth=4)\n",
    "    model.fit(X, y)\n",
    "    train_scores.append(model.score(X, y))\n",
    "    test_scores.append(cross_val_score(model, X, y, cv=5).mean())\n",
    "    \n",
    "    if n_est % 10.0 == 0: print n_est"
   ]
  },
  {
   "cell_type": "code",
   "execution_count": null,
   "metadata": {
    "collapsed": false
   },
   "outputs": [],
   "source": [
    "plt.plot(n_estimators, train_scores, color='red')\n",
    "plt.plot(n_estimators, test_scores, color='blue')\n",
    "plt.show()"
   ]
  },
  {
   "cell_type": "code",
   "execution_count": null,
   "metadata": {
    "collapsed": false
   },
   "outputs": [],
   "source": [
    "train_scores = []\n",
    "test_scores = []\n",
    "# depths = range(1, 25)\n",
    "\n",
    "for depth in depths:\n",
    "    X = df_tree.drop(['Clicked', 'Platform', 'Browser'], axis=1)\n",
    "    y = df_tree['Clicked']\n",
    "\n",
    "    model = GradientBoostingClassifier(n_estimators=40, max_depth=depth)\n",
    "    model.fit(X, y)\n",
    "    train_scores.append(model.score(X, y))\n",
    "    test_scores.append(cross_val_score(model, X, y, cv=5).mean())\n",
    "    \n",
    "    print depth"
   ]
  },
  {
   "cell_type": "code",
   "execution_count": null,
   "metadata": {
    "collapsed": false
   },
   "outputs": [],
   "source": [
    "plt.plot(depths, train_scores, color='red')\n",
    "plt.plot(depths, test_scores, color='blue')\n",
    "plt.show()"
   ]
  },
  {
   "cell_type": "code",
   "execution_count": null,
   "metadata": {
    "collapsed": false
   },
   "outputs": [],
   "source": [
    "test_scores"
   ]
  },
  {
   "cell_type": "code",
   "execution_count": 47,
   "metadata": {
    "collapsed": false
   },
   "outputs": [
    {
     "ename": "NameError",
     "evalue": "name 'train_scores' is not defined",
     "output_type": "error",
     "traceback": [
      "\u001b[0;31m---------------------------------------------------------------------------\u001b[0m",
      "\u001b[0;31mNameError\u001b[0m                                 Traceback (most recent call last)",
      "\u001b[0;32m<ipython-input-47-a0d9984c1c6a>\u001b[0m in \u001b[0;36m<module>\u001b[0;34m()\u001b[0m\n\u001b[1;32m      4\u001b[0m \u001b[0mmodel\u001b[0m \u001b[0;34m=\u001b[0m \u001b[0mGradientBoostingClassifier\u001b[0m\u001b[0;34m(\u001b[0m\u001b[0mn_estimators\u001b[0m\u001b[0;34m=\u001b[0m\u001b[0;36m37\u001b[0m\u001b[0;34m,\u001b[0m \u001b[0mmax_depth\u001b[0m\u001b[0;34m=\u001b[0m\u001b[0;36m5\u001b[0m\u001b[0;34m)\u001b[0m\u001b[0;34m\u001b[0m\u001b[0m\n\u001b[1;32m      5\u001b[0m \u001b[0mmodel\u001b[0m\u001b[0;34m.\u001b[0m\u001b[0mfit\u001b[0m\u001b[0;34m(\u001b[0m\u001b[0mX\u001b[0m\u001b[0;34m,\u001b[0m \u001b[0my\u001b[0m\u001b[0;34m)\u001b[0m\u001b[0;34m\u001b[0m\u001b[0m\n\u001b[0;32m----> 6\u001b[0;31m \u001b[0mtrain_scores\u001b[0m\u001b[0;34m.\u001b[0m\u001b[0mappend\u001b[0m\u001b[0;34m(\u001b[0m\u001b[0mmodel\u001b[0m\u001b[0;34m.\u001b[0m\u001b[0mscore\u001b[0m\u001b[0;34m(\u001b[0m\u001b[0mX\u001b[0m\u001b[0;34m,\u001b[0m \u001b[0my\u001b[0m\u001b[0;34m)\u001b[0m\u001b[0;34m)\u001b[0m\u001b[0;34m\u001b[0m\u001b[0m\n\u001b[0m\u001b[1;32m      7\u001b[0m \u001b[0mcross_val_score\u001b[0m\u001b[0;34m(\u001b[0m\u001b[0mmodel\u001b[0m\u001b[0;34m,\u001b[0m \u001b[0mX\u001b[0m\u001b[0;34m,\u001b[0m \u001b[0my\u001b[0m\u001b[0;34m,\u001b[0m \u001b[0mcv\u001b[0m\u001b[0;34m=\u001b[0m\u001b[0;36m5\u001b[0m\u001b[0;34m)\u001b[0m\u001b[0;34m.\u001b[0m\u001b[0mmean\u001b[0m\u001b[0;34m(\u001b[0m\u001b[0;34m)\u001b[0m\u001b[0;34m\u001b[0m\u001b[0m\n",
      "\u001b[0;31mNameError\u001b[0m: name 'train_scores' is not defined"
     ]
    }
   ],
   "source": [
    "\n",
    "X = df_tree.drop(['Clicked', 'Platform', 'Browser'], axis=1)\n",
    "y = df_tree['Clicked']\n",
    "\n",
    "model = GradientBoostingClassifier(n_estimators=37, max_depth=4)\n",
    "# model.fit(X, y)\n",
    "# train_scores.append(model.score(X, y))\n",
    "test_scores.append(cross_val_score(model, X, y, cv=5).mean())\n",
    "\n",
    "if n_est % 10.0 == 0: print n_est"
   ]
  },
  {
   "cell_type": "code",
   "execution_count": null,
   "metadata": {
    "collapsed": false
   },
   "outputs": [],
   "source": [
    "X = df_tree.drop(['Clicked'], axis=1)\n",
    "y = df_tree['Clicked']\n",
    "\n",
    "param_grid = [{'n_estimators': [40, 42, 44, 46, 48], 'max_depth': [4, 5, 6], 'max_features': [2]}]\n",
    "clf = GridSearchCV(GradientBoostingClassifier(), param_grid, cv= 3, scoring=None, fit_params=None, n_jobs=-1)\n",
    "clf.fit(X, y)"
   ]
  },
  {
   "cell_type": "code",
   "execution_count": null,
   "metadata": {
    "collapsed": false
   },
   "outputs": [],
   "source": [
    "clf.best_score_"
   ]
  },
  {
   "cell_type": "code",
   "execution_count": null,
   "metadata": {
    "collapsed": false
   },
   "outputs": [],
   "source": [
    "clf.best_estimator_"
   ]
  },
  {
   "cell_type": "code",
   "execution_count": 44,
   "metadata": {
    "collapsed": false
   },
   "outputs": [
    {
     "data": {
      "text/plain": [
       "GridSearchCV(cv=3, error_score='raise',\n",
       "       estimator=GradientBoostingClassifier(init=None, learning_rate=0.1, loss='deviance',\n",
       "              max_depth=3, max_features=None, max_leaf_nodes=None,\n",
       "              min_samples_leaf=1, min_samples_split=2,\n",
       "              min_weight_fraction_leaf=0.0, n_estimators=100,\n",
       "              presort='auto', random_state=None, subsample=1.0, verbose=0,\n",
       "              warm_start=False),\n",
       "       fit_params={}, iid=True, n_jobs=-1,\n",
       "       param_grid=[{'n_estimators': [37], 'max_features': [2], 'min_samples_split': [2], 'max_depth': [5], 'min_samples_leaf': [1]}],\n",
       "       pre_dispatch='2*n_jobs', refit=True, scoring=None, verbose=0)"
      ]
     },
     "execution_count": 44,
     "metadata": {},
     "output_type": "execute_result"
    }
   ],
   "source": [
    "X = df_tree.drop(['Clicked'], axis=1)\n",
    "y = df_tree['Clicked']\n",
    "\n",
    "param_grid = [{'n_estimators': [37], 'max_depth': [5], 'max_features': [2],\n",
    "              'min_samples_leaf':[1], 'min_samples_split':[2]}]\n",
    "clf2 = GridSearchCV(GradientBoostingClassifier(), param_grid, cv= 3, scoring=None, fit_params=None, n_jobs=-1)\n",
    "clf2.fit(X, y)"
   ]
  },
  {
   "cell_type": "code",
   "execution_count": 45,
   "metadata": {
    "collapsed": false
   },
   "outputs": [
    {
     "data": {
      "text/plain": [
       "0.70920000000000005"
      ]
     },
     "execution_count": 45,
     "metadata": {},
     "output_type": "execute_result"
    }
   ],
   "source": [
    "clf2.best_score_"
   ]
  },
  {
   "cell_type": "code",
   "execution_count": 46,
   "metadata": {
    "collapsed": false
   },
   "outputs": [
    {
     "data": {
      "text/plain": [
       "LogisticRegression(C=0.001, class_weight=None, dual=False, fit_intercept=True,\n",
       "          intercept_scaling=1, max_iter=100, multi_class='ovr', n_jobs=1,\n",
       "          penalty='l2', random_state=None, solver='liblinear', tol=0.0001,\n",
       "          verbose=0, warm_start=False)"
      ]
     },
     "execution_count": 46,
     "metadata": {},
     "output_type": "execute_result"
    }
   ],
   "source": [
    "clf.best_estimator_"
   ]
  },
  {
   "cell_type": "code",
   "execution_count": 18,
   "metadata": {
    "collapsed": false
   },
   "outputs": [
    {
     "data": {
      "text/plain": [
       "[0.0,\n",
       " 0.050505050505050504,\n",
       " 0.10101010101010101,\n",
       " 0.15151515151515152,\n",
       " 0.20202020202020202,\n",
       " 0.25252525252525254,\n",
       " 0.30303030303030304,\n",
       " 0.35353535353535354,\n",
       " 0.40404040404040403,\n",
       " 0.45454545454545453,\n",
       " 0.50505050505050508,\n",
       " 0.55555555555555558,\n",
       " 0.60606060606060608,\n",
       " 0.65656565656565657,\n",
       " 0.70707070707070707,\n",
       " 0.75757575757575757,\n",
       " 0.80808080808080807,\n",
       " 0.85858585858585856,\n",
       " 0.90909090909090906,\n",
       " 0.95959595959595956,\n",
       " 1.0101010101010102,\n",
       " 1.0606060606060606,\n",
       " 1.1111111111111112,\n",
       " 1.1616161616161615,\n",
       " 1.2121212121212122,\n",
       " 1.2626262626262625,\n",
       " 1.3131313131313131,\n",
       " 1.3636363636363635,\n",
       " 1.4141414141414141,\n",
       " 1.4646464646464645,\n",
       " 1.5151515151515151,\n",
       " 1.5656565656565655,\n",
       " 1.6161616161616161,\n",
       " 1.6666666666666667,\n",
       " 1.7171717171717171,\n",
       " 1.7676767676767677,\n",
       " 1.8181818181818181,\n",
       " 1.8686868686868687,\n",
       " 1.9191919191919191,\n",
       " 1.9696969696969697,\n",
       " 2.0202020202020203,\n",
       " 2.0707070707070705,\n",
       " 2.1212121212121211,\n",
       " 2.1717171717171717,\n",
       " 2.2222222222222223,\n",
       " 2.2727272727272725,\n",
       " 2.3232323232323231,\n",
       " 2.3737373737373737,\n",
       " 2.4242424242424243,\n",
       " 2.4747474747474749,\n",
       " 2.5252525252525251,\n",
       " 2.5757575757575757,\n",
       " 2.6262626262626263,\n",
       " 2.6767676767676769,\n",
       " 2.7272727272727271,\n",
       " 2.7777777777777777,\n",
       " 2.8282828282828283,\n",
       " 2.8787878787878789,\n",
       " 2.9292929292929291,\n",
       " 2.9797979797979797,\n",
       " 3.0303030303030303,\n",
       " 3.0808080808080809,\n",
       " 3.131313131313131,\n",
       " 3.1818181818181817,\n",
       " 3.2323232323232323,\n",
       " 3.2828282828282829,\n",
       " 3.3333333333333335,\n",
       " 3.3838383838383836,\n",
       " 3.4343434343434343,\n",
       " 3.4848484848484849,\n",
       " 3.5353535353535355,\n",
       " 3.5858585858585856,\n",
       " 3.6363636363636362,\n",
       " 3.6868686868686869,\n",
       " 3.7373737373737375,\n",
       " 3.7878787878787876,\n",
       " 3.8383838383838382,\n",
       " 3.8888888888888888,\n",
       " 3.9393939393939394,\n",
       " 3.9898989898989896,\n",
       " 4.0404040404040407,\n",
       " 4.0909090909090908,\n",
       " 4.141414141414141,\n",
       " 4.191919191919192,\n",
       " 4.2424242424242422,\n",
       " 4.2929292929292933,\n",
       " 4.3434343434343434,\n",
       " 4.3939393939393936,\n",
       " 4.4444444444444446,\n",
       " 4.4949494949494948,\n",
       " 4.545454545454545,\n",
       " 4.595959595959596,\n",
       " 4.6464646464646462,\n",
       " 4.6969696969696972,\n",
       " 4.7474747474747474,\n",
       " 4.7979797979797976,\n",
       " 4.8484848484848486,\n",
       " 4.8989898989898988,\n",
       " 4.9494949494949498,\n",
       " 5.0]"
      ]
     },
     "execution_count": 18,
     "metadata": {},
     "output_type": "execute_result"
    }
   ],
   "source": [
    "list(np.linspace(0, 5, 50))"
   ]
  },
  {
   "cell_type": "code",
   "execution_count": 25,
   "metadata": {
    "collapsed": false
   },
   "outputs": [
    {
     "data": {
      "text/plain": [
       "[0.0, 0.56, 1.11, 1.67, 2.22, 2.78, 3.33, 3.89, 4.44, 5.0]"
      ]
     },
     "execution_count": 25,
     "metadata": {},
     "output_type": "execute_result"
    }
   ],
   "source": [
    "[round(x,2) for x in list(np.linspace(0, 5, 10))]"
   ]
  },
  {
   "cell_type": "code",
   "execution_count": null,
   "metadata": {
    "collapsed": true
   },
   "outputs": [],
   "source": [
    "X = df_tree.drop(['Clicked', 'Platform', 'Browser'], axis=1)\n",
    "y = df_tree['Clicked']\n",
    "\n",
    "model = GradientBoostingClassifier(n_estimators=37, max_depth=4)\n",
    "# model.fit(X, y)\n",
    "# train_scores.append(model.score(X, y))\n",
    "test_scores.append(cross_val_score(model, X, y, cv=5).mean())"
   ]
  }
 ],
 "metadata": {
  "kernelspec": {
   "display_name": "Python [Root]",
   "language": "python",
   "name": "Python [Root]"
  },
  "language_info": {
   "codemirror_mode": {
    "name": "ipython",
    "version": 2
   },
   "file_extension": ".py",
   "mimetype": "text/x-python",
   "name": "python",
   "nbconvert_exporter": "python",
   "pygments_lexer": "ipython2",
   "version": "2.7.12"
  }
 },
 "nbformat": 4,
 "nbformat_minor": 0
}
