{
 "cells": [
  {
   "cell_type": "code",
   "execution_count": 1,
   "metadata": {
    "collapsed": true
   },
   "outputs": [],
   "source": [
    "from sklearn.cross_validation import cross_val_score, train_test_split\n",
    "from sklearn import cross_validation, metrics\n",
    "from sklearn.grid_search import GridSearchCV\n",
    "from xgboost.sklearn import XGBClassifier\n",
    "import xgboost as xgb\n",
    "import numpy as np\n",
    "import pandas as pd\n",
    "from dateutil import parser\n",
    "import matplotlib.pylab as plt\n",
    "from matplotlib.pylab import rcParams\n",
    "%matplotlib inline"
   ]
  },
  {
   "cell_type": "code",
   "execution_count": 67,
   "metadata": {
    "collapsed": false
   },
   "outputs": [],
   "source": [
    "def process_csv(csv_path, test=False):\n",
    "    if not test:\n",
    "        columns = ['Timestamp', 'Hour', 'Ad', 'Browser', 'Platform', 'Region', 'Clicked']\n",
    "    else:\n",
    "        columns = ['Timestamp', 'Hour', 'Browser', 'Platform', 'Region']\n",
    "    \n",
    "    df = pd.read_csv(csv_path, names=columns)\n",
    "\n",
    "    ## Engineer date features from Timestamp ##\n",
    "    #df['Hour'] = df['Timestamp'].apply(lambda x: round((float(x.split(':')[0][-2:]) + float(x.split(':')[1])/60), 1))\n",
    "    df['Day_of_week'] = df['Timestamp'].apply(lambda x: parser.parse(x).strftime(\"%A\"))\n",
    "    df['Day'] = df['Timestamp'].apply(lambda x: int(x.split('-')[2][:2]))\n",
    "    df['Year'] = df['Timestamp'].apply(lambda x: int(x.split('-')[0]))\n",
    "    df['Month'] = df['Timestamp'].apply(lambda x: int(x.split('-')[1]))\n",
    "    df.drop(['Timestamp'], axis=1, inplace=True)\n",
    "\n",
    "    ## Numerize categorical string features.\n",
    "    for col in  df.columns:\n",
    "        if df[col].dtype == \"object\":\n",
    "            catigories = list(df[col].unique())\n",
    "            df[col] = df[col].apply(lambda cat: catigories.index(cat))\n",
    "\n",
    "\n",
    "    return df"
   ]
  },
  {
   "cell_type": "code",
   "execution_count": 111,
   "metadata": {
    "collapsed": false
   },
   "outputs": [],
   "source": [
    "def modelfit(alg, dtrain, features, target, useTrainCV=True, cv_folds=5, early_stopping_rounds=25):\n",
    "    \n",
    "    if useTrainCV:\n",
    "        xgb_param = alg.get_xgb_params()\n",
    "        xgtrain = xgb.DMatrix(dtrain[features].values, label=dtrain[target].values)\n",
    "        cvresult = xgb.cv(xgb_param, xgtrain, num_boost_round=alg.get_params()['n_estimators'], nfold=cv_folds,\n",
    "            metrics='auc', early_stopping_rounds=early_stopping_rounds)\n",
    "        alg.set_params(n_estimators=cvresult.shape[0])\n",
    "        \n",
    "    #Declare X, y\n",
    "    X = dtrain[features]\n",
    "    y = dtrain[target]\n",
    "    \n",
    "    #Fit the algorithm on the data\n",
    "    alg.fit(X, y, eval_metric='auc')\n",
    "        \n",
    "    #Print model report:\n",
    "    print \"\\nModel Report\"\n",
    "    print \"Accuracy (Train): {}\".format(metrics.accuracy_score(y, alg.predict(X)))\n",
    "    print \"Accuracy (CV): {}\".format(cross_val_score(alg, X, y, cv=5).mean())\n",
    "    print \"AUC Score (Train): {}\".format(cvresult['train-auc-mean'].max())\n",
    "    print \"AUC Score (Test): {}\".format(cvresult['test-auc-mean'].max())                                                     \n",
    "    print \"Best cv iteration n_estimators:\", cvresult.shape[0]\n",
    "                    \n",
    "    feat_imp = pd.Series(alg.booster().get_fscore()).sort_values(ascending=False)\n",
    "    feat_imp.plot(kind='bar', title='Feature Importances')\n",
    "    plt.ylabel('Feature Importance Score')"
   ]
  },
  {
   "cell_type": "code",
   "execution_count": 68,
   "metadata": {
    "collapsed": false
   },
   "outputs": [
    {
     "data": {
      "text/html": [
       "<div>\n",
       "<table border=\"1\" class=\"dataframe\">\n",
       "  <thead>\n",
       "    <tr style=\"text-align: right;\">\n",
       "      <th></th>\n",
       "      <th>Hour</th>\n",
       "      <th>Ad</th>\n",
       "      <th>Browser</th>\n",
       "      <th>Platform</th>\n",
       "      <th>Region</th>\n",
       "      <th>Clicked</th>\n",
       "      <th>Day_of_week</th>\n",
       "      <th>Day</th>\n",
       "      <th>Year</th>\n",
       "      <th>Month</th>\n",
       "    </tr>\n",
       "  </thead>\n",
       "  <tbody>\n",
       "    <tr>\n",
       "      <th>0</th>\n",
       "      <td>5</td>\n",
       "      <td>0</td>\n",
       "      <td>0</td>\n",
       "      <td>0</td>\n",
       "      <td>0</td>\n",
       "      <td>1</td>\n",
       "      <td>0</td>\n",
       "      <td>13</td>\n",
       "      <td>2014</td>\n",
       "      <td>4</td>\n",
       "    </tr>\n",
       "    <tr>\n",
       "      <th>1</th>\n",
       "      <td>6</td>\n",
       "      <td>0</td>\n",
       "      <td>1</td>\n",
       "      <td>0</td>\n",
       "      <td>1</td>\n",
       "      <td>0</td>\n",
       "      <td>1</td>\n",
       "      <td>14</td>\n",
       "      <td>2014</td>\n",
       "      <td>4</td>\n",
       "    </tr>\n",
       "    <tr>\n",
       "      <th>2</th>\n",
       "      <td>4</td>\n",
       "      <td>1</td>\n",
       "      <td>2</td>\n",
       "      <td>1</td>\n",
       "      <td>2</td>\n",
       "      <td>0</td>\n",
       "      <td>1</td>\n",
       "      <td>7</td>\n",
       "      <td>2014</td>\n",
       "      <td>4</td>\n",
       "    </tr>\n",
       "    <tr>\n",
       "      <th>3</th>\n",
       "      <td>7</td>\n",
       "      <td>1</td>\n",
       "      <td>3</td>\n",
       "      <td>1</td>\n",
       "      <td>3</td>\n",
       "      <td>0</td>\n",
       "      <td>2</td>\n",
       "      <td>25</td>\n",
       "      <td>2014</td>\n",
       "      <td>4</td>\n",
       "    </tr>\n",
       "    <tr>\n",
       "      <th>4</th>\n",
       "      <td>16</td>\n",
       "      <td>2</td>\n",
       "      <td>4</td>\n",
       "      <td>2</td>\n",
       "      <td>2</td>\n",
       "      <td>0</td>\n",
       "      <td>3</td>\n",
       "      <td>19</td>\n",
       "      <td>2014</td>\n",
       "      <td>4</td>\n",
       "    </tr>\n",
       "  </tbody>\n",
       "</table>\n",
       "</div>"
      ],
      "text/plain": [
       "   Hour  Ad  Browser  Platform  Region  Clicked  Day_of_week  Day  Year  Month\n",
       "0     5   0        0         0       0        1            0   13  2014      4\n",
       "1     6   0        1         0       1        0            1   14  2014      4\n",
       "2     4   1        2         1       2        0            1    7  2014      4\n",
       "3     7   1        3         1       3        0            2   25  2014      4\n",
       "4    16   2        4         2       2        0            3   19  2014      4"
      ]
     },
     "execution_count": 68,
     "metadata": {},
     "output_type": "execute_result"
    }
   ],
   "source": [
    "# Parameters\n",
    "train_csv = '../training.csv'\n",
    "train = process_csv(train_csv, test=False)\n",
    "train.head(5)"
   ]
  },
  {
   "cell_type": "code",
   "execution_count": 100,
   "metadata": {
    "collapsed": false
   },
   "outputs": [
    {
     "name": "stdout",
     "output_type": "stream",
     "text": [
      "['Hour', 'Region', 'Ad']\n"
     ]
    }
   ],
   "source": [
    "# Declare Target\n",
    "target = 'Clicked'\n",
    "exclude = ['N/a']\n",
    "\n",
    "# Choose all predictors except target & exclude\n",
    "features = [x for x in train.columns if x not in [target] + exclude]\n",
    "features = ['Hour', 'Region', 'Ad']\n",
    "#features = ['Hour', 'Region', 'Ad', 'Day']\n",
    "\n",
    "print features"
   ]
  },
  {
   "cell_type": "code",
   "execution_count": 122,
   "metadata": {
    "collapsed": false
   },
   "outputs": [
    {
     "name": "stdout",
     "output_type": "stream",
     "text": [
      "\n",
      "Model Report\n",
      "Accuracy (Train): 0.725\n",
      "Accuracy (CV): 0.705200419925\n",
      "AUC Score (Train): 0.8021292\n",
      "AUC Score (Test): 0.7882276\n",
      "Best cv iteration n_estimators: 23\n"
     ]
    },
    {
     "data": {
      "image/png": "[encoded data removed]",
      "text/plain": [
       "<matplotlib.figure.Figure at 0x11657ead0>"
      ]
     },
     "metadata": {},
     "output_type": "display_data"
    }
   ],
   "source": [
    "xgb1 = XGBClassifier(\n",
    "    learning_rate =0.5,\n",
    "    n_estimators=1000,\n",
    "    max_depth=5,\n",
    "    min_child_weight=6,\n",
    "    gamma=0,\n",
    "    subsample=0.8,\n",
    "    colsample_bytree=0.8,\n",
    "    objective= 'binary:logistic')\n",
    "    #scale_pos_weight=1)\n",
    "    #seed=27)\n",
    "modelfit(xgb1, train, features, target)"
   ]
  },
  {
   "cell_type": "markdown",
   "metadata": {},
   "source": [
    "Model Report\n",
    "Accuracy (Train): 0.7321\n",
    "Accuracy (CV): 0.7041003699\n",
    "AUC Score (Train): 0.8131328\n",
    "AUC Score (Test): 0.7842468\n",
    "Best cv iteration n_estimators: 75\n",
    "\n",
    "Model Report\n",
    "Accuracy (Train): 0.7238\n",
    "Accuracy (CV): 0.703201320075\n",
    "AUC Score (Train): 0.8033678\n",
    "AUC Score (Test): 0.7888138\n",
    "Best cv iteration n_estimators: 213\n",
    "\n",
    "Model Report\n",
    "Accuracy (Train): 0.7368\n",
    "Accuracy (CV): 0.70559907005\n",
    "AUC Score (Train): 0.8183934\n",
    "AUC Score (Test): 0.7848754\n",
    "Best cv iteration n_estimators: 110"
   ]
  },
  {
   "cell_type": "code",
   "execution_count": 123,
   "metadata": {
    "collapsed": false
   },
   "outputs": [
    {
     "data": {
      "text/plain": [
       "([mean: 0.78271, std: 0.00742, params: {'max_depth': 3, 'min_child_weight': 1},\n",
       "  mean: 0.78268, std: 0.00743, params: {'max_depth': 3, 'min_child_weight': 3},\n",
       "  mean: 0.78205, std: 0.00829, params: {'max_depth': 3, 'min_child_weight': 5},\n",
       "  mean: 0.78500, std: 0.00698, params: {'max_depth': 5, 'min_child_weight': 1},\n",
       "  mean: 0.78516, std: 0.00640, params: {'max_depth': 5, 'min_child_weight': 3},\n",
       "  mean: 0.78556, std: 0.00622, params: {'max_depth': 5, 'min_child_weight': 5},\n",
       "  mean: 0.78256, std: 0.00667, params: {'max_depth': 7, 'min_child_weight': 1},\n",
       "  mean: 0.78336, std: 0.00672, params: {'max_depth': 7, 'min_child_weight': 3},\n",
       "  mean: 0.78377, std: 0.00682, params: {'max_depth': 7, 'min_child_weight': 5},\n",
       "  mean: 0.78193, std: 0.00680, params: {'max_depth': 9, 'min_child_weight': 1},\n",
       "  mean: 0.78228, std: 0.00695, params: {'max_depth': 9, 'min_child_weight': 3},\n",
       "  mean: 0.78300, std: 0.00710, params: {'max_depth': 9, 'min_child_weight': 5}],\n",
       " {'max_depth': 5, 'min_child_weight': 5},\n",
       " 0.78556030927128151)"
      ]
     },
     "execution_count": 123,
     "metadata": {},
     "output_type": "execute_result"
    }
   ],
   "source": [
    "param_test1 = {\n",
    " 'max_depth':range(3,10,2),\n",
    " 'min_child_weight':range(1,6,2)\n",
    "}\n",
    "\n",
    "gsearch1 = GridSearchCV(estimator = XGBClassifier(learning_rate =0.5, n_estimators=23, max_depth=5,\n",
    " min_child_weight=1, gamma=0, subsample=0.8, colsample_bytree=0.8,\n",
    " objective= 'binary:logistic'), \n",
    " param_grid = param_test1, scoring='roc_auc', iid=False, cv=5)\n",
    "gsearch1.fit(train[features],train[target])\n",
    "gsearch1.grid_scores_, gsearch1.best_params_, gsearch1.best_score_"
   ]
  },
  {
   "cell_type": "code",
   "execution_count": 128,
   "metadata": {
    "collapsed": false
   },
   "outputs": [
    {
     "data": {
      "text/plain": [
       "([mean: 0.78656, std: 0.00745, params: {'max_depth': 4, 'min_child_weight': 4},\n",
       "  mean: 0.78674, std: 0.00752, params: {'max_depth': 4, 'min_child_weight': 5},\n",
       "  mean: 0.78601, std: 0.00706, params: {'max_depth': 4, 'min_child_weight': 6},\n",
       "  mean: 0.78601, std: 0.00629, params: {'max_depth': 5, 'min_child_weight': 4},\n",
       "  mean: 0.78556, std: 0.00622, params: {'max_depth': 5, 'min_child_weight': 5},\n",
       "  mean: 0.78533, std: 0.00651, params: {'max_depth': 5, 'min_child_weight': 6},\n",
       "  mean: 0.78404, std: 0.00673, params: {'max_depth': 6, 'min_child_weight': 4},\n",
       "  mean: 0.78381, std: 0.00670, params: {'max_depth': 6, 'min_child_weight': 5},\n",
       "  mean: 0.78346, std: 0.00660, params: {'max_depth': 6, 'min_child_weight': 6}],\n",
       " {'max_depth': 4, 'min_child_weight': 5},\n",
       " 0.78673796784826455)"
      ]
     },
     "execution_count": 128,
     "metadata": {},
     "output_type": "execute_result"
    }
   ],
   "source": [
    "param_test2 = {\n",
    " 'max_depth':[4,5,6],\n",
    " 'min_child_weight':[4,5,6]\n",
    "}\n",
    "gsearch2 = GridSearchCV(estimator = XGBClassifier(learning_rate=0.5, n_estimators=23, max_depth=5,\n",
    " min_child_weight=5, gamma=0, subsample=0.8, colsample_bytree=0.8,\n",
    " objective= 'binary:logistic'), \n",
    " param_grid = param_test2, scoring='roc_auc',iid=False, cv=5)\n",
    "gsearch2.fit(train[features],train[target])\n",
    "gsearch2.grid_scores_, gsearch2.best_params_, gsearch2.best_score_"
   ]
  },
  {
   "cell_type": "code",
   "execution_count": 126,
   "metadata": {
    "collapsed": false
   },
   "outputs": [
    {
     "data": {
      "text/plain": [
       "([mean: 0.78046, std: 0.00871, params: {'gamma': 0.0},\n",
       "  mean: 0.78048, std: 0.00879, params: {'gamma': 0.1},\n",
       "  mean: 0.78051, std: 0.00882, params: {'gamma': 0.2},\n",
       "  mean: 0.78048, std: 0.00861, params: {'gamma': 0.3},\n",
       "  mean: 0.78059, std: 0.00852, params: {'gamma': 0.4},\n",
       "  mean: 0.78063, std: 0.00842, params: {'gamma': 0.5},\n",
       "  mean: 0.78047, std: 0.00856, params: {'gamma': 0.6},\n",
       "  mean: 0.78048, std: 0.00855, params: {'gamma': 0.7},\n",
       "  mean: 0.78027, std: 0.00867, params: {'gamma': 0.8},\n",
       "  mean: 0.78043, std: 0.00852, params: {'gamma': 0.9}],\n",
       " {'gamma': 0.5},\n",
       " 0.78063496071291116)"
      ]
     },
     "execution_count": 126,
     "metadata": {},
     "output_type": "execute_result"
    }
   ],
   "source": [
    "param_test3 = {\n",
    " 'gamma':[i/10.0 for i in range(0,10)]\n",
    "}\n",
    "gsearch3 = GridSearchCV(estimator = XGBClassifier(learning_rate =0.5, n_estimators=23, max_depth=5,\n",
    " min_child_weight=5, gamma=0, subsample=0.8, colsample_bytree=0.8,\n",
    " objective= 'binary:logistic'), \n",
    " param_grid = param_test3, scoring='roc_auc', iid=False, cv=5)\n",
    "gsearch3.fit(train[features],train[target])\n",
    "gsearch3.grid_scores_, gsearch3.best_params_, gsearch3.best_score_"
   ]
  },
  {
   "cell_type": "code",
   "execution_count": 130,
   "metadata": {
    "collapsed": false
   },
   "outputs": [
    {
     "name": "stdout",
     "output_type": "stream",
     "text": [
      "\n",
      "Model Report\n",
      "Accuracy (Train): 0.7244\n",
      "Accuracy (CV): 0.706900720375\n",
      "AUC Score (Train): 0.8022822\n",
      "AUC Score (Test): 0.7885056\n",
      "Best cv iteration n_estimators: 26\n"
     ]
    },
    {
     "data": {
      "image/png": "[encoded data removed]",
      "text/plain": [
       "<matplotlib.figure.Figure at 0x116519d10>"
      ]
     },
     "metadata": {},
     "output_type": "display_data"
    }
   ],
   "source": [
    "xgb2 = XGBClassifier(\n",
    " learning_rate =0.5,\n",
    " n_estimators=1000,\n",
    " max_depth=5,\n",
    " min_child_weight=5,\n",
    " gamma=0.5,\n",
    " subsample=0.8,\n",
    " colsample_bytree=0.8,\n",
    " objective= 'binary:logistic')\n",
    " #scale_pos_weight=1)\n",
    " #seed=27)\n",
    "modelfit(xgb2, train, features, target)"
   ]
  },
  {
   "cell_type": "code",
   "execution_count": 138,
   "metadata": {
    "collapsed": false
   },
   "outputs": [
    {
     "data": {
      "text/plain": [
       "([mean: 0.62263, std: 0.01423, params: {'subsample': 0.6, 'colsample_bytree': 0.6},\n",
       "  mean: 0.62338, std: 0.01510, params: {'subsample': 0.7, 'colsample_bytree': 0.6},\n",
       "  mean: 0.62318, std: 0.01476, params: {'subsample': 0.8, 'colsample_bytree': 0.6},\n",
       "  mean: 0.62386, std: 0.01514, params: {'subsample': 0.9, 'colsample_bytree': 0.6},\n",
       "  mean: 0.78482, std: 0.00723, params: {'subsample': 0.6, 'colsample_bytree': 0.7},\n",
       "  mean: 0.78503, std: 0.00678, params: {'subsample': 0.7, 'colsample_bytree': 0.7},\n",
       "  mean: 0.78536, std: 0.00759, params: {'subsample': 0.8, 'colsample_bytree': 0.7},\n",
       "  mean: 0.78537, std: 0.00717, params: {'subsample': 0.9, 'colsample_bytree': 0.7},\n",
       "  mean: 0.78482, std: 0.00723, params: {'subsample': 0.6, 'colsample_bytree': 0.8},\n",
       "  mean: 0.78503, std: 0.00678, params: {'subsample': 0.7, 'colsample_bytree': 0.8},\n",
       "  mean: 0.78536, std: 0.00759, params: {'subsample': 0.8, 'colsample_bytree': 0.8},\n",
       "  mean: 0.78537, std: 0.00717, params: {'subsample': 0.9, 'colsample_bytree': 0.8},\n",
       "  mean: 0.78482, std: 0.00723, params: {'subsample': 0.6, 'colsample_bytree': 0.9},\n",
       "  mean: 0.78503, std: 0.00678, params: {'subsample': 0.7, 'colsample_bytree': 0.9},\n",
       "  mean: 0.78536, std: 0.00759, params: {'subsample': 0.8, 'colsample_bytree': 0.9},\n",
       "  mean: 0.78537, std: 0.00717, params: {'subsample': 0.9, 'colsample_bytree': 0.9}],\n",
       " {'colsample_bytree': 0.7, 'subsample': 0.9},\n",
       " 0.78536813087965662)"
      ]
     },
     "execution_count": 138,
     "metadata": {},
     "output_type": "execute_result"
    }
   ],
   "source": [
    "param_test4 = {\n",
    " 'subsample':[i/10.0 for i in range(6,10)],\n",
    " 'colsample_bytree':[i/10.0 for i in range(6,10)]\n",
    "}\n",
    "\n",
    "gsearch4 = GridSearchCV(estimator = XGBClassifier(learning_rate =0.5, n_estimators=26, max_depth=5,\n",
    " min_child_weight=5, gamma=0.5, subsample=0.8, colsample_bytree=0.8,\n",
    " objective= 'binary:logistic'), \n",
    " param_grid = param_test4, scoring='roc_auc', iid=False, cv=5)\n",
    "gsearch4.fit(train[features],train[target])\n",
    "gsearch4.grid_scores_, gsearch4.best_params_, gsearch4.best_score_"
   ]
  },
  {
   "cell_type": "code",
   "execution_count": 140,
   "metadata": {
    "collapsed": false
   },
   "outputs": [
    {
     "data": {
      "text/plain": [
       "([mean: 0.78482, std: 0.00723, params: {'subsample': 0.59999999999999998, 'colsample_bytree': 0.80000000000000004},\n",
       "  mean: 0.78507, std: 0.00750, params: {'subsample': 0.62222222222222223, 'colsample_bytree': 0.80000000000000004},\n",
       "  mean: 0.78457, std: 0.00785, params: {'subsample': 0.64444444444444449, 'colsample_bytree': 0.80000000000000004},\n",
       "  mean: 0.78433, std: 0.00798, params: {'subsample': 0.66666666666666663, 'colsample_bytree': 0.80000000000000004},\n",
       "  mean: 0.78475, std: 0.00784, params: {'subsample': 0.68888888888888888, 'colsample_bytree': 0.80000000000000004},\n",
       "  mean: 0.78459, std: 0.00765, params: {'subsample': 0.71111111111111114, 'colsample_bytree': 0.80000000000000004},\n",
       "  mean: 0.78399, std: 0.00714, params: {'subsample': 0.73333333333333339, 'colsample_bytree': 0.80000000000000004},\n",
       "  mean: 0.78436, std: 0.00746, params: {'subsample': 0.75555555555555554, 'colsample_bytree': 0.80000000000000004},\n",
       "  mean: 0.78494, std: 0.00846, params: {'subsample': 0.77777777777777779, 'colsample_bytree': 0.80000000000000004},\n",
       "  mean: 0.78536, std: 0.00759, params: {'subsample': 0.80000000000000004, 'colsample_bytree': 0.80000000000000004},\n",
       "  mean: 0.78482, std: 0.00723, params: {'subsample': 0.59999999999999998, 'colsample_bytree': 0.8222222222222223},\n",
       "  mean: 0.78507, std: 0.00750, params: {'subsample': 0.62222222222222223, 'colsample_bytree': 0.8222222222222223},\n",
       "  mean: 0.78457, std: 0.00785, params: {'subsample': 0.64444444444444449, 'colsample_bytree': 0.8222222222222223},\n",
       "  mean: 0.78433, std: 0.00798, params: {'subsample': 0.66666666666666663, 'colsample_bytree': 0.8222222222222223},\n",
       "  mean: 0.78475, std: 0.00784, params: {'subsample': 0.68888888888888888, 'colsample_bytree': 0.8222222222222223},\n",
       "  mean: 0.78459, std: 0.00765, params: {'subsample': 0.71111111111111114, 'colsample_bytree': 0.8222222222222223},\n",
       "  mean: 0.78399, std: 0.00714, params: {'subsample': 0.73333333333333339, 'colsample_bytree': 0.8222222222222223},\n",
       "  mean: 0.78436, std: 0.00746, params: {'subsample': 0.75555555555555554, 'colsample_bytree': 0.8222222222222223},\n",
       "  mean: 0.78494, std: 0.00846, params: {'subsample': 0.77777777777777779, 'colsample_bytree': 0.8222222222222223},\n",
       "  mean: 0.78536, std: 0.00759, params: {'subsample': 0.80000000000000004, 'colsample_bytree': 0.8222222222222223},\n",
       "  mean: 0.78482, std: 0.00723, params: {'subsample': 0.59999999999999998, 'colsample_bytree': 0.84444444444444444},\n",
       "  mean: 0.78507, std: 0.00750, params: {'subsample': 0.62222222222222223, 'colsample_bytree': 0.84444444444444444},\n",
       "  mean: 0.78457, std: 0.00785, params: {'subsample': 0.64444444444444449, 'colsample_bytree': 0.84444444444444444},\n",
       "  mean: 0.78433, std: 0.00798, params: {'subsample': 0.66666666666666663, 'colsample_bytree': 0.84444444444444444},\n",
       "  mean: 0.78475, std: 0.00784, params: {'subsample': 0.68888888888888888, 'colsample_bytree': 0.84444444444444444},\n",
       "  mean: 0.78459, std: 0.00765, params: {'subsample': 0.71111111111111114, 'colsample_bytree': 0.84444444444444444},\n",
       "  mean: 0.78399, std: 0.00714, params: {'subsample': 0.73333333333333339, 'colsample_bytree': 0.84444444444444444},\n",
       "  mean: 0.78436, std: 0.00746, params: {'subsample': 0.75555555555555554, 'colsample_bytree': 0.84444444444444444},\n",
       "  mean: 0.78494, std: 0.00846, params: {'subsample': 0.77777777777777779, 'colsample_bytree': 0.84444444444444444},\n",
       "  mean: 0.78536, std: 0.00759, params: {'subsample': 0.80000000000000004, 'colsample_bytree': 0.84444444444444444},\n",
       "  mean: 0.78482, std: 0.00723, params: {'subsample': 0.59999999999999998, 'colsample_bytree': 0.8666666666666667},\n",
       "  mean: 0.78507, std: 0.00750, params: {'subsample': 0.62222222222222223, 'colsample_bytree': 0.8666666666666667},\n",
       "  mean: 0.78457, std: 0.00785, params: {'subsample': 0.64444444444444449, 'colsample_bytree': 0.8666666666666667},\n",
       "  mean: 0.78433, std: 0.00798, params: {'subsample': 0.66666666666666663, 'colsample_bytree': 0.8666666666666667},\n",
       "  mean: 0.78475, std: 0.00784, params: {'subsample': 0.68888888888888888, 'colsample_bytree': 0.8666666666666667},\n",
       "  mean: 0.78459, std: 0.00765, params: {'subsample': 0.71111111111111114, 'colsample_bytree': 0.8666666666666667},\n",
       "  mean: 0.78399, std: 0.00714, params: {'subsample': 0.73333333333333339, 'colsample_bytree': 0.8666666666666667},\n",
       "  mean: 0.78436, std: 0.00746, params: {'subsample': 0.75555555555555554, 'colsample_bytree': 0.8666666666666667},\n",
       "  mean: 0.78494, std: 0.00846, params: {'subsample': 0.77777777777777779, 'colsample_bytree': 0.8666666666666667},\n",
       "  mean: 0.78536, std: 0.00759, params: {'subsample': 0.80000000000000004, 'colsample_bytree': 0.8666666666666667},\n",
       "  mean: 0.78482, std: 0.00723, params: {'subsample': 0.59999999999999998, 'colsample_bytree': 0.88888888888888895},\n",
       "  mean: 0.78507, std: 0.00750, params: {'subsample': 0.62222222222222223, 'colsample_bytree': 0.88888888888888895},\n",
       "  mean: 0.78457, std: 0.00785, params: {'subsample': 0.64444444444444449, 'colsample_bytree': 0.88888888888888895},\n",
       "  mean: 0.78433, std: 0.00798, params: {'subsample': 0.66666666666666663, 'colsample_bytree': 0.88888888888888895},\n",
       "  mean: 0.78475, std: 0.00784, params: {'subsample': 0.68888888888888888, 'colsample_bytree': 0.88888888888888895},\n",
       "  mean: 0.78459, std: 0.00765, params: {'subsample': 0.71111111111111114, 'colsample_bytree': 0.88888888888888895},\n",
       "  mean: 0.78399, std: 0.00714, params: {'subsample': 0.73333333333333339, 'colsample_bytree': 0.88888888888888895},\n",
       "  mean: 0.78436, std: 0.00746, params: {'subsample': 0.75555555555555554, 'colsample_bytree': 0.88888888888888895},\n",
       "  mean: 0.78494, std: 0.00846, params: {'subsample': 0.77777777777777779, 'colsample_bytree': 0.88888888888888895},\n",
       "  mean: 0.78536, std: 0.00759, params: {'subsample': 0.80000000000000004, 'colsample_bytree': 0.88888888888888895},\n",
       "  mean: 0.78482, std: 0.00723, params: {'subsample': 0.59999999999999998, 'colsample_bytree': 0.91111111111111109},\n",
       "  mean: 0.78507, std: 0.00750, params: {'subsample': 0.62222222222222223, 'colsample_bytree': 0.91111111111111109},\n",
       "  mean: 0.78457, std: 0.00785, params: {'subsample': 0.64444444444444449, 'colsample_bytree': 0.91111111111111109},\n",
       "  mean: 0.78433, std: 0.00798, params: {'subsample': 0.66666666666666663, 'colsample_bytree': 0.91111111111111109},\n",
       "  mean: 0.78475, std: 0.00784, params: {'subsample': 0.68888888888888888, 'colsample_bytree': 0.91111111111111109},\n",
       "  mean: 0.78459, std: 0.00765, params: {'subsample': 0.71111111111111114, 'colsample_bytree': 0.91111111111111109},\n",
       "  mean: 0.78399, std: 0.00714, params: {'subsample': 0.73333333333333339, 'colsample_bytree': 0.91111111111111109},\n",
       "  mean: 0.78436, std: 0.00746, params: {'subsample': 0.75555555555555554, 'colsample_bytree': 0.91111111111111109},\n",
       "  mean: 0.78494, std: 0.00846, params: {'subsample': 0.77777777777777779, 'colsample_bytree': 0.91111111111111109},\n",
       "  mean: 0.78536, std: 0.00759, params: {'subsample': 0.80000000000000004, 'colsample_bytree': 0.91111111111111109},\n",
       "  mean: 0.78482, std: 0.00723, params: {'subsample': 0.59999999999999998, 'colsample_bytree': 0.93333333333333335},\n",
       "  mean: 0.78507, std: 0.00750, params: {'subsample': 0.62222222222222223, 'colsample_bytree': 0.93333333333333335},\n",
       "  mean: 0.78457, std: 0.00785, params: {'subsample': 0.64444444444444449, 'colsample_bytree': 0.93333333333333335},\n",
       "  mean: 0.78433, std: 0.00798, params: {'subsample': 0.66666666666666663, 'colsample_bytree': 0.93333333333333335},\n",
       "  mean: 0.78475, std: 0.00784, params: {'subsample': 0.68888888888888888, 'colsample_bytree': 0.93333333333333335},\n",
       "  mean: 0.78459, std: 0.00765, params: {'subsample': 0.71111111111111114, 'colsample_bytree': 0.93333333333333335},\n",
       "  mean: 0.78399, std: 0.00714, params: {'subsample': 0.73333333333333339, 'colsample_bytree': 0.93333333333333335},\n",
       "  mean: 0.78436, std: 0.00746, params: {'subsample': 0.75555555555555554, 'colsample_bytree': 0.93333333333333335},\n",
       "  mean: 0.78494, std: 0.00846, params: {'subsample': 0.77777777777777779, 'colsample_bytree': 0.93333333333333335},\n",
       "  mean: 0.78536, std: 0.00759, params: {'subsample': 0.80000000000000004, 'colsample_bytree': 0.93333333333333335},\n",
       "  mean: 0.78482, std: 0.00723, params: {'subsample': 0.59999999999999998, 'colsample_bytree': 0.95555555555555549},\n",
       "  mean: 0.78507, std: 0.00750, params: {'subsample': 0.62222222222222223, 'colsample_bytree': 0.95555555555555549},\n",
       "  mean: 0.78457, std: 0.00785, params: {'subsample': 0.64444444444444449, 'colsample_bytree': 0.95555555555555549},\n",
       "  mean: 0.78433, std: 0.00798, params: {'subsample': 0.66666666666666663, 'colsample_bytree': 0.95555555555555549},\n",
       "  mean: 0.78475, std: 0.00784, params: {'subsample': 0.68888888888888888, 'colsample_bytree': 0.95555555555555549},\n",
       "  mean: 0.78459, std: 0.00765, params: {'subsample': 0.71111111111111114, 'colsample_bytree': 0.95555555555555549},\n",
       "  mean: 0.78399, std: 0.00714, params: {'subsample': 0.73333333333333339, 'colsample_bytree': 0.95555555555555549},\n",
       "  mean: 0.78436, std: 0.00746, params: {'subsample': 0.75555555555555554, 'colsample_bytree': 0.95555555555555549},\n",
       "  mean: 0.78494, std: 0.00846, params: {'subsample': 0.77777777777777779, 'colsample_bytree': 0.95555555555555549},\n",
       "  mean: 0.78536, std: 0.00759, params: {'subsample': 0.80000000000000004, 'colsample_bytree': 0.95555555555555549},\n",
       "  mean: 0.78482, std: 0.00723, params: {'subsample': 0.59999999999999998, 'colsample_bytree': 0.97777777777777775},\n",
       "  mean: 0.78507, std: 0.00750, params: {'subsample': 0.62222222222222223, 'colsample_bytree': 0.97777777777777775},\n",
       "  mean: 0.78457, std: 0.00785, params: {'subsample': 0.64444444444444449, 'colsample_bytree': 0.97777777777777775},\n",
       "  mean: 0.78433, std: 0.00798, params: {'subsample': 0.66666666666666663, 'colsample_bytree': 0.97777777777777775},\n",
       "  mean: 0.78475, std: 0.00784, params: {'subsample': 0.68888888888888888, 'colsample_bytree': 0.97777777777777775},\n",
       "  mean: 0.78459, std: 0.00765, params: {'subsample': 0.71111111111111114, 'colsample_bytree': 0.97777777777777775},\n",
       "  mean: 0.78399, std: 0.00714, params: {'subsample': 0.73333333333333339, 'colsample_bytree': 0.97777777777777775},\n",
       "  mean: 0.78436, std: 0.00746, params: {'subsample': 0.75555555555555554, 'colsample_bytree': 0.97777777777777775},\n",
       "  mean: 0.78494, std: 0.00846, params: {'subsample': 0.77777777777777779, 'colsample_bytree': 0.97777777777777775},\n",
       "  mean: 0.78536, std: 0.00759, params: {'subsample': 0.80000000000000004, 'colsample_bytree': 0.97777777777777775},\n",
       "  mean: 0.78057, std: 0.00641, params: {'subsample': 0.59999999999999998, 'colsample_bytree': 1.0},\n",
       "  mean: 0.78247, std: 0.00822, params: {'subsample': 0.62222222222222223, 'colsample_bytree': 1.0},\n",
       "  mean: 0.78112, std: 0.00859, params: {'subsample': 0.64444444444444449, 'colsample_bytree': 1.0},\n",
       "  mean: 0.78147, std: 0.00818, params: {'subsample': 0.66666666666666663, 'colsample_bytree': 1.0},\n",
       "  mean: 0.78132, std: 0.00781, params: {'subsample': 0.68888888888888888, 'colsample_bytree': 1.0},\n",
       "  mean: 0.78045, std: 0.00629, params: {'subsample': 0.71111111111111114, 'colsample_bytree': 1.0},\n",
       "  mean: 0.78192, std: 0.00733, params: {'subsample': 0.73333333333333339, 'colsample_bytree': 1.0},\n",
       "  mean: 0.78035, std: 0.00807, params: {'subsample': 0.75555555555555554, 'colsample_bytree': 1.0},\n",
       "  mean: 0.77997, std: 0.00738, params: {'subsample': 0.77777777777777779, 'colsample_bytree': 1.0},\n",
       "  mean: 0.78003, std: 0.00762, params: {'subsample': 0.80000000000000004, 'colsample_bytree': 1.0}],\n",
       " {'colsample_bytree': 0.80000000000000004, 'subsample': 0.80000000000000004},\n",
       " 0.785357837949754)"
      ]
     },
     "execution_count": 140,
     "metadata": {},
     "output_type": "execute_result"
    }
   ],
   "source": [
    "param_test5 = {\n",
    " 'subsample': np.linspace(0.6, 0.8, 10),\n",
    " 'colsample_bytree': np.linspace(0.8, 1.0, 10)\n",
    "}\n",
    "gsearch5 = GridSearchCV(estimator = XGBClassifier(learning_rate =0.5, n_estimators=26, max_depth=5,\n",
    " min_child_weight=5, gamma=0.5, subsample=0.8, colsample_bytree=0.7,\n",
    " objective= 'binary:logistic'), \n",
    " param_grid = param_test5, scoring='roc_auc', iid=False, cv=5)\n",
    "gsearch5.fit(train[features],train[target])\n",
    "gsearch5.grid_scores_, gsearch5.best_params_, gsearch5.best_score_"
   ]
  },
  {
   "cell_type": "code",
   "execution_count": 141,
   "metadata": {
    "collapsed": false
   },
   "outputs": [
    {
     "data": {
      "text/plain": [
       "([mean: 0.78536, std: 0.00759, params: {'reg_alpha': 1e-05},\n",
       "  mean: 0.78532, std: 0.00695, params: {'reg_alpha': 0.01},\n",
       "  mean: 0.78592, std: 0.00772, params: {'reg_alpha': 0.1},\n",
       "  mean: 0.78647, std: 0.00708, params: {'reg_alpha': 1},\n",
       "  mean: 0.76621, std: 0.00845, params: {'reg_alpha': 100}],\n",
       " {'reg_alpha': 1},\n",
       " 0.78647101994853674)"
      ]
     },
     "execution_count": 141,
     "metadata": {},
     "output_type": "execute_result"
    }
   ],
   "source": [
    "param_test6 = {\n",
    " 'reg_alpha':[1e-5, 1e-2, 0.1, 1, 100]\n",
    "}\n",
    "\n",
    "gsearch6 = GridSearchCV(estimator = XGBClassifier(learning_rate =0.5, n_estimators=26, max_depth=5,\n",
    "    min_child_weight=5, gamma=0.5, subsample=0.8, colsample_bytree=0.8,\n",
    "    objective= 'binary:logistic'), \n",
    "    param_grid = param_test6, scoring='roc_auc', iid=False, cv=5)\n",
    "gsearch6.fit(train[features],train[target])\n",
    "gsearch6.grid_scores_, gsearch6.best_params_, gsearch6.best_score_"
   ]
  },
  {
   "cell_type": "code",
   "execution_count": 145,
   "metadata": {
    "collapsed": false
   },
   "outputs": [
    {
     "data": {
      "text/plain": [
       "([mean: 0.78647, std: 0.00708, params: {'reg_alpha': 1.0},\n",
       "  mean: 0.78604, std: 0.00726, params: {'reg_alpha': 1.1111111111111112},\n",
       "  mean: 0.78546, std: 0.00734, params: {'reg_alpha': 1.2222222222222223},\n",
       "  mean: 0.78595, std: 0.00784, params: {'reg_alpha': 1.3333333333333333},\n",
       "  mean: 0.78612, std: 0.00731, params: {'reg_alpha': 1.4444444444444444},\n",
       "  mean: 0.78682, std: 0.00792, params: {'reg_alpha': 1.5555555555555556},\n",
       "  mean: 0.78627, std: 0.00745, params: {'reg_alpha': 1.6666666666666665},\n",
       "  mean: 0.78634, std: 0.00700, params: {'reg_alpha': 1.7777777777777777},\n",
       "  mean: 0.78668, std: 0.00727, params: {'reg_alpha': 1.8888888888888888},\n",
       "  mean: 0.78656, std: 0.00753, params: {'reg_alpha': 2.0}],\n",
       " {'reg_alpha': 1.5555555555555556},\n",
       " 0.78681513823022309)"
      ]
     },
     "execution_count": 145,
     "metadata": {},
     "output_type": "execute_result"
    }
   ],
   "source": [
    "param_test7 = {\n",
    " 'reg_alpha': np.linspace(1, 2, 10)\n",
    "}\n",
    "gsearch7 = GridSearchCV(estimator = XGBClassifier(learning_rate =0.5, n_estimators=26, max_depth=5,\n",
    "    min_child_weight=5, gamma=0.5, subsample=0.8, colsample_bytree=0.8,\n",
    "    objective= 'binary:logistic'), \n",
    "    param_grid = param_test7, scoring='roc_auc', iid=False, cv=5)\n",
    "gsearch7.fit(train[features],train[target])\n",
    "gsearch7.grid_scores_, gsearch7.best_params_, gsearch7.best_score_"
   ]
  },
  {
   "cell_type": "code",
   "execution_count": 146,
   "metadata": {
    "collapsed": false
   },
   "outputs": [
    {
     "name": "stdout",
     "output_type": "stream",
     "text": [
      "\n",
      "Model Report\n",
      "Accuracy (Train): 0.7221\n",
      "Accuracy (CV): 0.7080006709\n",
      "AUC Score (Train): 0.8015228\n",
      "AUC Score (Test): 0.7891036\n",
      "Best cv iteration n_estimators: 34\n"
     ]
    },
    {
     "data": {
      "image/png": "[encoded data removed]",
      "text/plain": [
       "<matplotlib.figure.Figure at 0x1019afe90>"
      ]
     },
     "metadata": {},
     "output_type": "display_data"
    }
   ],
   "source": [
    "xgb3 = XGBClassifier(\n",
    "    learning_rate =0.5,\n",
    "    n_estimators=1000,\n",
    "    max_depth=5,\n",
    "    min_child_weight=5,\n",
    "    gamma=0.5,\n",
    "    subsample=0.8,\n",
    "    colsample_bytree=0.8,\n",
    "    reg_alpha = 1.5,\n",
    "    objective = 'binary:logistic')\n",
    "    #scale_pos_weight=1)\n",
    "    #seed=27)\n",
    "modelfit(xgb3, train, features, target)"
   ]
  },
  {
   "cell_type": "code",
   "execution_count": null,
   "metadata": {
    "collapsed": true
   },
   "outputs": [],
   "source": [
    "Model Report\n",
    "Accuracy (Train): 0.734\n",
    "Accuracy (Test): 0.7217\n",
    "AUC Score (Train): 0.814168\n",
    "AUC Score (Test): 0.790539"
   ]
  },
  {
   "cell_type": "code",
   "execution_count": 147,
   "metadata": {
    "collapsed": false
   },
   "outputs": [
    {
     "data": {
      "text/plain": [
       "([mean: 0.77615, std: 0.01011, params: {'learning_rate': 0.01},\n",
       "  mean: 0.78246, std: 0.00915, params: {'learning_rate': 0.051250000000000004},\n",
       "  mean: 0.78566, std: 0.00816, params: {'learning_rate': 0.092499999999999999},\n",
       "  mean: 0.78704, std: 0.00797, params: {'learning_rate': 0.13375000000000001},\n",
       "  mean: 0.78745, std: 0.00724, params: {'learning_rate': 0.17500000000000002},\n",
       "  mean: 0.78797, std: 0.00708, params: {'learning_rate': 0.21625000000000003},\n",
       "  mean: 0.78788, std: 0.00641, params: {'learning_rate': 0.25750000000000001},\n",
       "  mean: 0.78726, std: 0.00674, params: {'learning_rate': 0.29875000000000002},\n",
       "  mean: 0.78701, std: 0.00666, params: {'learning_rate': 0.34000000000000002},\n",
       "  mean: 0.78694, std: 0.00668, params: {'learning_rate': 0.38125000000000003},\n",
       "  mean: 0.78664, std: 0.00646, params: {'learning_rate': 0.42250000000000004},\n",
       "  mean: 0.78652, std: 0.00690, params: {'learning_rate': 0.46375000000000005},\n",
       "  mean: 0.78583, std: 0.00737, params: {'learning_rate': 0.505},\n",
       "  mean: 0.78608, std: 0.00751, params: {'learning_rate': 0.54625000000000001},\n",
       "  mean: 0.78641, std: 0.00766, params: {'learning_rate': 0.58750000000000002},\n",
       "  mean: 0.78606, std: 0.00718, params: {'learning_rate': 0.62875000000000003},\n",
       "  mean: 0.78599, std: 0.00745, params: {'learning_rate': 0.67000000000000004},\n",
       "  mean: 0.78509, std: 0.00725, params: {'learning_rate': 0.71125000000000005},\n",
       "  mean: 0.78472, std: 0.00817, params: {'learning_rate': 0.75250000000000006},\n",
       "  mean: 0.78556, std: 0.00700, params: {'learning_rate': 0.79375000000000007},\n",
       "  mean: 0.78451, std: 0.00683, params: {'learning_rate': 0.83500000000000008},\n",
       "  mean: 0.78466, std: 0.00624, params: {'learning_rate': 0.87625000000000008},\n",
       "  mean: 0.78354, std: 0.00730, params: {'learning_rate': 0.91750000000000009},\n",
       "  mean: 0.78355, std: 0.00747, params: {'learning_rate': 0.9587500000000001},\n",
       "  mean: 0.78377, std: 0.00714, params: {'learning_rate': 1.0}],\n",
       " {'learning_rate': 0.21625000000000003},\n",
       " 0.78796730002704329)"
      ]
     },
     "execution_count": 147,
     "metadata": {},
     "output_type": "execute_result"
    }
   ],
   "source": [
    "param_test8 = {\n",
    " 'learning_rate': np.linspace(0.01, 1, 25)\n",
    "}\n",
    "gsearch8 = GridSearchCV(estimator = XGBClassifier(learning_rate =0.5, n_estimators=34, max_depth=5,\n",
    "    min_child_weight=5, gamma=0.5, subsample=0.8, colsample_bytree=0.8, reg_alpha = 1.5,\n",
    "    objective= 'binary:logistic'), \n",
    "    param_grid = param_test8, scoring='roc_auc', iid=False, cv=5)\n",
    "gsearch8.fit(train[features],train[target])\n",
    "gsearch8.grid_scores_, gsearch8.best_params_, gsearch8.best_score_"
   ]
  },
  {
   "cell_type": "code",
   "execution_count": 148,
   "metadata": {
    "collapsed": false
   },
   "outputs": [
    {
     "name": "stdout",
     "output_type": "stream",
     "text": [
      "\n",
      "Model Report\n",
      "Accuracy (Train): 0.7239\n",
      "Accuracy (CV): 0.707700720375\n",
      "AUC Score (Train): 0.8011852\n",
      "AUC Score (Test): 0.7899902\n",
      "Best cv iteration n_estimators: 57\n"
     ]
    },
    {
     "data": {
      "image/png": "[encoded data removed]",
      "text/plain": [
       "<matplotlib.figure.Figure at 0x11600eb90>"
      ]
     },
     "metadata": {},
     "output_type": "display_data"
    }
   ],
   "source": [
    "xgb4 = XGBClassifier(\n",
    "    learning_rate =0.2,\n",
    "    n_estimators=1000,\n",
    "    max_depth=5,\n",
    "    min_child_weight=5,\n",
    "    gamma=0.5,\n",
    "    subsample=0.8,\n",
    "    colsample_bytree=0.78,\n",
    "    reg_alpha = 1.5,\n",
    "    objective = 'binary:logistic')\n",
    "    #scale_pos_weight=1)\n",
    "    #seed=27)\n",
    "modelfit(xgb4, train, features, target)"
   ]
  },
  {
   "cell_type": "code",
   "execution_count": null,
   "metadata": {
    "collapsed": true
   },
   "outputs": [],
   "source": [
    "Model Report\n",
    "Accuracy (Train): 0.7207\n",
    "Accuracy (CV): 0.7142012709\n",
    "AUC Score (Train): 0.7967038\n",
    "AUC Score (Test): 0.790672\n",
    "Best cv iteration n_estimators: 54"
   ]
  }
 ],
 "metadata": {
  "anaconda-cloud": {},
  "kernelspec": {
   "display_name": "Python [Root]",
   "language": "python",
   "name": "Python [Root]"
  },
  "language_info": {
   "codemirror_mode": {
    "name": "ipython",
    "version": 2
   },
   "file_extension": ".py",
   "mimetype": "text/x-python",
   "name": "python",
   "nbconvert_exporter": "python",
   "pygments_lexer": "ipython2",
   "version": "2.7.12"
  }
 },
 "nbformat": 4,
 "nbformat_minor": 0
}
