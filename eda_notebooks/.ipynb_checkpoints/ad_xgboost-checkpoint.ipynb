{
 "cells": [
  {
   "cell_type": "code",
   "execution_count": 1,
   "metadata": {
    "collapsed": true
   },
   "outputs": [],
   "source": [
    "from sklearn.cross_validation import cross_val_score, train_test_split\n",
    "from sklearn import cross_validation, metrics\n",
    "from sklearn.grid_search import GridSearchCV\n",
    "from xgboost.sklearn import XGBClassifier\n",
    "import xgboost as xgb\n",
    "import numpy as np\n",
    "import pandas as pd\n",
    "from dateutil import parser\n",
    "import matplotlib.pylab as plt\n",
    "from matplotlib.pylab import rcParams\n",
    "%matplotlib inline"
   ]
  },
  {
   "cell_type": "code",
   "execution_count": 67,
   "metadata": {
    "collapsed": false
   },
   "outputs": [],
   "source": [
    "def process_csv(csv_path, test=False):\n",
    "    if not test:\n",
    "        columns = ['Timestamp', 'Hour', 'Ad', 'Browser', 'Platform', 'Region', 'Clicked']\n",
    "    else:\n",
    "        columns = ['Timestamp', 'Hour', 'Browser', 'Platform', 'Region']\n",
    "    \n",
    "    df = pd.read_csv(csv_path, names=columns)\n",
    "\n",
    "    ## Engineer date features from Timestamp ##\n",
    "    #df['Hour'] = df['Timestamp'].apply(lambda x: round((float(x.split(':')[0][-2:]) + float(x.split(':')[1])/60), 1))\n",
    "    df['Day_of_week'] = df['Timestamp'].apply(lambda x: parser.parse(x).strftime(\"%A\"))\n",
    "    df['Day'] = df['Timestamp'].apply(lambda x: int(x.split('-')[2][:2]))\n",
    "    df['Year'] = df['Timestamp'].apply(lambda x: int(x.split('-')[0]))\n",
    "    df['Month'] = df['Timestamp'].apply(lambda x: int(x.split('-')[1]))\n",
    "    df.drop(['Timestamp'], axis=1, inplace=True)\n",
    "\n",
    "    ## Numerize categorical string features.\n",
    "    for col in  df.columns:\n",
    "        if df[col].dtype == \"object\":\n",
    "            catigories = list(df[col].unique())\n",
    "            df[col] = df[col].apply(lambda cat: catigories.index(cat))\n",
    "\n",
    "\n",
    "    return df"
   ]
  },
  {
   "cell_type": "code",
   "execution_count": 75,
   "metadata": {
    "collapsed": false
   },
   "outputs": [],
   "source": [
    "def modelfit(alg, dtrain, features, target, useTrainCV=True, cv_folds=5, early_stopping_rounds=50):\n",
    "    \n",
    "    if useTrainCV:\n",
    "        xgb_param = alg.get_xgb_params()\n",
    "        xgtrain = xgb.DMatrix(dtrain[features].values, label=dtrain[target].values)\n",
    "        cvresult = xgb.cv(xgb_param, xgtrain, num_boost_round=alg.get_params()['n_estimators'], nfold=cv_folds,\n",
    "            metrics='auc', early_stopping_rounds=early_stopping_rounds)\n",
    "        alg.set_params(n_estimators=cvresult.shape[0])\n",
    "        \n",
    "    #Declare X, y\n",
    "    X = dtrain[features]\n",
    "    y = dtrain[target]\n",
    "    \n",
    "    #Fit the algorithm on the data\n",
    "    alg.fit(X, y, eval_metric='auc')\n",
    "        \n",
    "    #Print model report:\n",
    "    print \"\\nModel Report\"\n",
    "    print \"Accuracy (Train): {}\".format(metrics.accuracy_score(y, alg.predict(X)))\n",
    "    print \"Accuracy (CV): {}\".format(cross_val_score(alg, X, y, cv=5).mean())\n",
    "    print \"AUC Score (Train): {}\".format(cvresult['train-auc-mean'].max())\n",
    "    print \"AUC Score (Test): {}\".format(cvresult['test-auc-mean'].max())                                                     \n",
    "    print \"Best cv iteration n_estimators:\", cvresult.shape[0]\n",
    "                    \n",
    "    feat_imp = pd.Series(alg.booster().get_fscore()).sort_values(ascending=False)\n",
    "    feat_imp.plot(kind='bar', title='Feature Importances')\n",
    "    plt.ylabel('Feature Importance Score')"
   ]
  },
  {
   "cell_type": "code",
   "execution_count": 68,
   "metadata": {
    "collapsed": false
   },
   "outputs": [
    {
     "data": {
      "text/html": [
       "<div>\n",
       "<table border=\"1\" class=\"dataframe\">\n",
       "  <thead>\n",
       "    <tr style=\"text-align: right;\">\n",
       "      <th></th>\n",
       "      <th>Hour</th>\n",
       "      <th>Ad</th>\n",
       "      <th>Browser</th>\n",
       "      <th>Platform</th>\n",
       "      <th>Region</th>\n",
       "      <th>Clicked</th>\n",
       "      <th>Day_of_week</th>\n",
       "      <th>Day</th>\n",
       "      <th>Year</th>\n",
       "      <th>Month</th>\n",
       "    </tr>\n",
       "  </thead>\n",
       "  <tbody>\n",
       "    <tr>\n",
       "      <th>0</th>\n",
       "      <td>5</td>\n",
       "      <td>0</td>\n",
       "      <td>0</td>\n",
       "      <td>0</td>\n",
       "      <td>0</td>\n",
       "      <td>1</td>\n",
       "      <td>0</td>\n",
       "      <td>13</td>\n",
       "      <td>2014</td>\n",
       "      <td>4</td>\n",
       "    </tr>\n",
       "    <tr>\n",
       "      <th>1</th>\n",
       "      <td>6</td>\n",
       "      <td>0</td>\n",
       "      <td>1</td>\n",
       "      <td>0</td>\n",
       "      <td>1</td>\n",
       "      <td>0</td>\n",
       "      <td>1</td>\n",
       "      <td>14</td>\n",
       "      <td>2014</td>\n",
       "      <td>4</td>\n",
       "    </tr>\n",
       "    <tr>\n",
       "      <th>2</th>\n",
       "      <td>4</td>\n",
       "      <td>1</td>\n",
       "      <td>2</td>\n",
       "      <td>1</td>\n",
       "      <td>2</td>\n",
       "      <td>0</td>\n",
       "      <td>1</td>\n",
       "      <td>7</td>\n",
       "      <td>2014</td>\n",
       "      <td>4</td>\n",
       "    </tr>\n",
       "    <tr>\n",
       "      <th>3</th>\n",
       "      <td>7</td>\n",
       "      <td>1</td>\n",
       "      <td>3</td>\n",
       "      <td>1</td>\n",
       "      <td>3</td>\n",
       "      <td>0</td>\n",
       "      <td>2</td>\n",
       "      <td>25</td>\n",
       "      <td>2014</td>\n",
       "      <td>4</td>\n",
       "    </tr>\n",
       "    <tr>\n",
       "      <th>4</th>\n",
       "      <td>16</td>\n",
       "      <td>2</td>\n",
       "      <td>4</td>\n",
       "      <td>2</td>\n",
       "      <td>2</td>\n",
       "      <td>0</td>\n",
       "      <td>3</td>\n",
       "      <td>19</td>\n",
       "      <td>2014</td>\n",
       "      <td>4</td>\n",
       "    </tr>\n",
       "  </tbody>\n",
       "</table>\n",
       "</div>"
      ],
      "text/plain": [
       "   Hour  Ad  Browser  Platform  Region  Clicked  Day_of_week  Day  Year  Month\n",
       "0     5   0        0         0       0        1            0   13  2014      4\n",
       "1     6   0        1         0       1        0            1   14  2014      4\n",
       "2     4   1        2         1       2        0            1    7  2014      4\n",
       "3     7   1        3         1       3        0            2   25  2014      4\n",
       "4    16   2        4         2       2        0            3   19  2014      4"
      ]
     },
     "execution_count": 68,
     "metadata": {},
     "output_type": "execute_result"
    }
   ],
   "source": [
    "# Parameters\n",
    "train_csv = '../training.csv'\n",
    "train = process_csv(train_csv, test=False)\n",
    "train.head(5)"
   ]
  },
  {
   "cell_type": "code",
   "execution_count": 69,
   "metadata": {
    "collapsed": false
   },
   "outputs": [
    {
     "name": "stdout",
     "output_type": "stream",
     "text": [
      "['Hour', 'Ad', 'Browser', 'Platform', 'Region', 'Day_of_week', 'Day', 'Year', 'Month']\n"
     ]
    }
   ],
   "source": [
    "# Declare Target\n",
    "target = 'Clicked'\n",
    "exclude = ['N/a']\n",
    "\n",
    "# Choose all predictors except target & exclude\n",
    "features = [x for x in train.columns if x not in [target] + exclude]\n",
    "#features = ['Hour', 'Region', 'Ad']\n",
    "\n",
    "print features"
   ]
  },
  {
   "cell_type": "code",
   "execution_count": 76,
   "metadata": {
    "collapsed": false
   },
   "outputs": [
    {
     "name": "stdout",
     "output_type": "stream",
     "text": [
      "\n",
      "Model Report\n",
      "Accuracy (Train): 0.6366\n",
      "Accuracy (CV): 0.613600911275\n",
      "AUC Score (Train): 0.641247\n",
      "AUC Score (Test): 0.616391\n",
      "Best cv iteration n_estimators: 9\n"
     ]
    },
    {
     "data": {
      "image/png": "[encoded data removed]",
      "text/plain": [
       "<matplotlib.figure.Figure at 0x117a31650>"
      ]
     },
     "metadata": {},
     "output_type": "display_data"
    }
   ],
   "source": [
    "features = ['Hour', 'Region', 'Day']\n",
    "xgb1 = XGBClassifier(\n",
    "    learning_rate =0.05,\n",
    "    n_estimators=1000,\n",
    "    max_depth=5,\n",
    "    min_child_weight=1,\n",
    "    gamma=0,\n",
    "    subsample=0.8,\n",
    "    colsample_bytree=0.8,\n",
    "    objective= 'binary:logistic')\n",
    "    #scale_pos_weight=1)\n",
    "    #seed=27)\n",
    "modelfit(xgb1, train, features, target)"
   ]
  },
  {
   "cell_type": "markdown",
   "metadata": {},
   "source": [
    "Model Report\n",
    "Accuracy (Train): 0.7693\n",
    "Accuracy (Test): 0.7133\n",
    "AUC Score (Train): 0.853238\n",
    "AUC Score (Test): 0.786564\n",
    "Best iteration n_estimators: 75"
   ]
  },
  {
   "cell_type": "code",
   "execution_count": 47,
   "metadata": {
    "collapsed": false
   },
   "outputs": [
    {
     "data": {
      "text/plain": [
       "([mean: 0.77977, std: 0.00901, params: {'max_depth': 3, 'min_child_weight': 1},\n",
       "  mean: 0.77984, std: 0.00906, params: {'max_depth': 3, 'min_child_weight': 3},\n",
       "  mean: 0.77970, std: 0.00927, params: {'max_depth': 3, 'min_child_weight': 5},\n",
       "  mean: 0.78611, std: 0.00739, params: {'max_depth': 5, 'min_child_weight': 1},\n",
       "  mean: 0.78602, std: 0.00745, params: {'max_depth': 5, 'min_child_weight': 3},\n",
       "  mean: 0.78623, std: 0.00758, params: {'max_depth': 5, 'min_child_weight': 5},\n",
       "  mean: 0.78391, std: 0.00773, params: {'max_depth': 7, 'min_child_weight': 1},\n",
       "  mean: 0.78422, std: 0.00768, params: {'max_depth': 7, 'min_child_weight': 3},\n",
       "  mean: 0.78436, std: 0.00743, params: {'max_depth': 7, 'min_child_weight': 5},\n",
       "  mean: 0.78277, std: 0.00789, params: {'max_depth': 9, 'min_child_weight': 1},\n",
       "  mean: 0.78317, std: 0.00777, params: {'max_depth': 9, 'min_child_weight': 3},\n",
       "  mean: 0.78355, std: 0.00791, params: {'max_depth': 9, 'min_child_weight': 5}],\n",
       " {'max_depth': 5, 'min_child_weight': 5},\n",
       " 0.78623349925564501)"
      ]
     },
     "execution_count": 47,
     "metadata": {},
     "output_type": "execute_result"
    }
   ],
   "source": [
    "param_test1 = {\n",
    " 'max_depth':range(3,10,2),\n",
    " 'min_child_weight':range(1,6,2)\n",
    "}\n",
    "\n",
    "gsearch1 = GridSearchCV(estimator = XGBClassifier(learning_rate =0.05, n_estimators=157, max_depth=5,\n",
    " min_child_weight=1, gamma=0, subsample=0.8, colsample_bytree=0.8,\n",
    " objective= 'binary:logistic', scale_pos_weight=1), \n",
    " param_grid = param_test1, scoring='roc_auc', iid=False, cv=5)\n",
    "gsearch1.fit(train[features],train[target])\n",
    "gsearch1.grid_scores_, gsearch1.best_params_, gsearch1.best_score_"
   ]
  },
  {
   "cell_type": "code",
   "execution_count": 48,
   "metadata": {
    "collapsed": false
   },
   "outputs": [
    {
     "data": {
      "text/plain": [
       "([mean: 0.78612, std: 0.00840, params: {'max_depth': 4, 'min_child_weight': 4},\n",
       "  mean: 0.78620, std: 0.00854, params: {'max_depth': 4, 'min_child_weight': 5},\n",
       "  mean: 0.78618, std: 0.00861, params: {'max_depth': 4, 'min_child_weight': 6},\n",
       "  mean: 0.78606, std: 0.00743, params: {'max_depth': 5, 'min_child_weight': 4},\n",
       "  mean: 0.78623, std: 0.00758, params: {'max_depth': 5, 'min_child_weight': 5},\n",
       "  mean: 0.78637, std: 0.00757, params: {'max_depth': 5, 'min_child_weight': 6},\n",
       "  mean: 0.78497, std: 0.00717, params: {'max_depth': 6, 'min_child_weight': 4},\n",
       "  mean: 0.78499, std: 0.00728, params: {'max_depth': 6, 'min_child_weight': 5},\n",
       "  mean: 0.78517, std: 0.00728, params: {'max_depth': 6, 'min_child_weight': 6}],\n",
       " {'max_depth': 5, 'min_child_weight': 6},\n",
       " 0.78636540562107649)"
      ]
     },
     "execution_count": 48,
     "metadata": {},
     "output_type": "execute_result"
    }
   ],
   "source": [
    "param_test2 = {\n",
    " 'max_depth':[4,5,6],\n",
    " 'min_child_weight':[4,5,6]\n",
    "}\n",
    "gsearch2 = GridSearchCV(estimator = XGBClassifier(learning_rate=0.05, n_estimators=157, max_depth=5,\n",
    " min_child_weight=2, gamma=0, subsample=0.8, colsample_bytree=0.8,\n",
    " objective= 'binary:logistic', scale_pos_weight=1), \n",
    " param_grid = param_test2, scoring='roc_auc',iid=False, cv=5)\n",
    "gsearch2.fit(train[features],train[target])\n",
    "gsearch2.grid_scores_, gsearch2.best_params_, gsearch2.best_score_"
   ]
  },
  {
   "cell_type": "code",
   "execution_count": 49,
   "metadata": {
    "collapsed": false
   },
   "outputs": [
    {
     "data": {
      "text/plain": [
       "([mean: 0.78606, std: 0.00794, params: {'gamma': 0.0},\n",
       "  mean: 0.78608, std: 0.00802, params: {'gamma': 0.01},\n",
       "  mean: 0.78611, std: 0.00806, params: {'gamma': 0.02},\n",
       "  mean: 0.78605, std: 0.00806, params: {'gamma': 0.03},\n",
       "  mean: 0.78603, std: 0.00791, params: {'gamma': 0.04},\n",
       "  mean: 0.78590, std: 0.00781, params: {'gamma': 0.05}],\n",
       " {'gamma': 0.02},\n",
       " 0.78611153280457446)"
      ]
     },
     "execution_count": 49,
     "metadata": {},
     "output_type": "execute_result"
    }
   ],
   "source": [
    "param_test3 = {\n",
    " 'gamma':[i/100.0 for i in range(0,6)]\n",
    "}\n",
    "gsearch3 = GridSearchCV(estimator = XGBClassifier(learning_rate =0.05, n_estimators=157, max_depth=5,\n",
    " min_child_weight=6, gamma=0, subsample=0.8, colsample_bytree=0.8,\n",
    " objective= 'binary:logistic', scale_pos_weight=1,seed=27), \n",
    " param_grid = param_test3, scoring='roc_auc', iid=False, cv=5)\n",
    "gsearch3.fit(train[features],train[target])\n",
    "gsearch3.grid_scores_, gsearch3.best_params_, gsearch3.best_score_"
   ]
  },
  {
   "cell_type": "code",
   "execution_count": 52,
   "metadata": {
    "collapsed": false
   },
   "outputs": [
    {
     "name": "stdout",
     "output_type": "stream",
     "text": [
      "\n",
      "Model Report\n",
      "Accuracy (Train): 0.7234\n",
      "Accuracy (CV): 0.704901620125\n",
      "AUC Score (Train): 0.8022818\n",
      "AUC Score (Test): 0.7888072\n",
      "Best cv iteration n_estimators: 175\n"
     ]
    },
    {
     "data": {
      "image/png": "[encoded data removed]",
      "text/plain": [
       "<matplotlib.figure.Figure at 0x1175da790>"
      ]
     },
     "metadata": {},
     "output_type": "display_data"
    }
   ],
   "source": [
    "xgb2 = XGBClassifier(\n",
    " learning_rate =0.05,\n",
    " n_estimators=1000,\n",
    " max_depth=5,\n",
    " min_child_weight=6,\n",
    " gamma=0.02,\n",
    " subsample=0.8,\n",
    " colsample_bytree=0.8,\n",
    " objective= 'binary:logistic')\n",
    " #scale_pos_weight=1)\n",
    " #seed=27)\n",
    "modelfit(xgb2, train, features, target)"
   ]
  },
  {
   "cell_type": "code",
   "execution_count": 63,
   "metadata": {
    "collapsed": false
   },
   "outputs": [
    {
     "data": {
      "text/plain": [
       "([mean: 0.78919, std: 0.00668, params: {'subsample': 0.6, 'colsample_bytree': 0.6},\n",
       "  mean: 0.78888, std: 0.00691, params: {'subsample': 0.7, 'colsample_bytree': 0.6},\n",
       "  mean: 0.78772, std: 0.00550, params: {'subsample': 0.8, 'colsample_bytree': 0.6},\n",
       "  mean: 0.78738, std: 0.00569, params: {'subsample': 0.9, 'colsample_bytree': 0.6},\n",
       "  mean: 0.79017, std: 0.00694, params: {'subsample': 0.6, 'colsample_bytree': 0.7},\n",
       "  mean: 0.79031, std: 0.00707, params: {'subsample': 0.7, 'colsample_bytree': 0.7},\n",
       "  mean: 0.78920, std: 0.00628, params: {'subsample': 0.8, 'colsample_bytree': 0.7},\n",
       "  mean: 0.78823, std: 0.00559, params: {'subsample': 0.9, 'colsample_bytree': 0.7},\n",
       "  mean: 0.79018, std: 0.00777, params: {'subsample': 0.6, 'colsample_bytree': 0.8},\n",
       "  mean: 0.79000, std: 0.00687, params: {'subsample': 0.7, 'colsample_bytree': 0.8},\n",
       "  mean: 0.78991, std: 0.00635, params: {'subsample': 0.8, 'colsample_bytree': 0.8},\n",
       "  mean: 0.78917, std: 0.00557, params: {'subsample': 0.9, 'colsample_bytree': 0.8},\n",
       "  mean: 0.79026, std: 0.00706, params: {'subsample': 0.6, 'colsample_bytree': 0.9},\n",
       "  mean: 0.78929, std: 0.00704, params: {'subsample': 0.7, 'colsample_bytree': 0.9},\n",
       "  mean: 0.78958, std: 0.00602, params: {'subsample': 0.8, 'colsample_bytree': 0.9},\n",
       "  mean: 0.78795, std: 0.00637, params: {'subsample': 0.9, 'colsample_bytree': 0.9}],\n",
       " {'colsample_bytree': 0.7, 'subsample': 0.7},\n",
       " 0.79030925034821631)"
      ]
     },
     "execution_count": 63,
     "metadata": {},
     "output_type": "execute_result"
    }
   ],
   "source": [
    "param_test4 = {\n",
    " 'subsample':[i/10.0 for i in range(6,10)],\n",
    " 'colsample_bytree':[i/10.0 for i in range(6,10)]\n",
    "}\n",
    "\n",
    "gsearch4 = GridSearchCV(estimator = XGBClassifier(learning_rate =0.05, n_estimators=136, max_depth=6,\n",
    " min_child_weight=6, gamma=0, subsample=0.8, colsample_bytree=0.8,\n",
    " objective= 'binary:logistic', scale_pos_weight=1,seed=27), \n",
    " param_grid = param_test4, scoring='roc_auc', iid=False, cv=5)\n",
    "gsearch4.fit(train[features],train[target])\n",
    "gsearch4.grid_scores_, gsearch4.best_params_, gsearch4.best_score_"
   ]
  },
  {
   "cell_type": "code",
   "execution_count": 56,
   "metadata": {
    "collapsed": false
   },
   "outputs": [
    {
     "data": {
      "text/plain": [
       "0.7909632883989808"
      ]
     },
     "execution_count": 56,
     "metadata": {},
     "output_type": "execute_result"
    }
   ],
   "source": [
    "{'gamma': 0.0},\n",
    " 0.78990712700038657)\n",
    "{'colsample_bytree': 0.8, 'subsample': 0.6},\n",
    "0.79096328839898078"
   ]
  },
  {
   "cell_type": "code",
   "execution_count": 64,
   "metadata": {
    "collapsed": false
   },
   "outputs": [
    {
     "data": {
      "text/plain": [
       "([mean: 0.78956, std: 0.00688, params: {'subsample': 0.75, 'colsample_bytree': 0.75},\n",
       "  mean: 0.78920, std: 0.00628, params: {'subsample': 0.8, 'colsample_bytree': 0.75},\n",
       "  mean: 0.78892, std: 0.00549, params: {'subsample': 0.85, 'colsample_bytree': 0.75},\n",
       "  mean: 0.79104, std: 0.00646, params: {'subsample': 0.75, 'colsample_bytree': 0.8},\n",
       "  mean: 0.78991, std: 0.00635, params: {'subsample': 0.8, 'colsample_bytree': 0.8},\n",
       "  mean: 0.78908, std: 0.00552, params: {'subsample': 0.85, 'colsample_bytree': 0.8},\n",
       "  mean: 0.79104, std: 0.00646, params: {'subsample': 0.75, 'colsample_bytree': 0.85},\n",
       "  mean: 0.78991, std: 0.00635, params: {'subsample': 0.8, 'colsample_bytree': 0.85},\n",
       "  mean: 0.78908, std: 0.00552, params: {'subsample': 0.85, 'colsample_bytree': 0.85}],\n",
       " {'colsample_bytree': 0.8, 'subsample': 0.75},\n",
       " 0.79103632241580379)"
      ]
     },
     "execution_count": 64,
     "metadata": {},
     "output_type": "execute_result"
    }
   ],
   "source": [
    "param_test5 = {\n",
    " 'subsample':[i/100.0 for i in range(75,90,5)],\n",
    " 'colsample_bytree':[i/100.0 for i in range(75,90,5)]\n",
    "}\n",
    "gsearch5 = GridSearchCV(estimator = XGBClassifier(learning_rate =0.05, n_estimators=136, max_depth=6,\n",
    " min_child_weight=6, gamma=0, subsample=0.6, colsample_bytree=0.8,\n",
    " objective= 'binary:logistic', scale_pos_weight=1,seed=27), \n",
    " param_grid = param_test5, scoring='roc_auc', iid=False, cv=5)\n",
    "gsearch5.fit(train[features],train[target])\n",
    "gsearch5.grid_scores_, gsearch5.best_params_, gsearch5.best_score_"
   ]
  },
  {
   "cell_type": "code",
   "execution_count": 66,
   "metadata": {
    "collapsed": false
   },
   "outputs": [
    {
     "data": {
      "text/plain": [
       "([mean: 0.75355, std: 0.00776, params: {'reg_alpha': 1e-05},\n",
       "  mean: 0.75233, std: 0.00846, params: {'reg_alpha': 0.01},\n",
       "  mean: 0.75032, std: 0.00892, params: {'reg_alpha': 0.1},\n",
       "  mean: 0.75662, std: 0.00852, params: {'reg_alpha': 1},\n",
       "  mean: 0.76186, std: 0.02936, params: {'reg_alpha': 100}],\n",
       " {'reg_alpha': 100},\n",
       " 0.76185918178160039)"
      ]
     },
     "execution_count": 66,
     "metadata": {},
     "output_type": "execute_result"
    }
   ],
   "source": [
    "param_test6 = {\n",
    " 'reg_alpha':[1e-5, 1e-2, 0.1, 1, 100]\n",
    "}\n",
    "\n",
    "gsearch6 = GridSearchCV(estimator = XGBClassifier(learning_rate =0.5, n_estimators=136, max_depth=6,\n",
    "    min_child_weight=6, gamma=0, subsample=0.8, colsample_bytree=0.75,\n",
    "    objective= 'binary:logistic', scale_pos_weight=1,seed=27), \n",
    "    param_grid = param_test6, scoring='roc_auc', iid=False, cv=5)\n",
    "gsearch6.fit(train[features],train[target])\n",
    "gsearch6.grid_scores_, gsearch6.best_params_, gsearch6.best_score_"
   ]
  },
  {
   "cell_type": "code",
   "execution_count": 72,
   "metadata": {
    "collapsed": false
   },
   "outputs": [
    {
     "data": {
      "text/plain": [
       "([mean: 0.78962, std: 0.00576, params: {'reg_alpha': 15.0},\n",
       "  mean: 0.78931, std: 0.00608, params: {'reg_alpha': 15.111111111111111},\n",
       "  mean: 0.78939, std: 0.00703, params: {'reg_alpha': 15.222222222222221},\n",
       "  mean: 0.79018, std: 0.00737, params: {'reg_alpha': 15.333333333333334},\n",
       "  mean: 0.78957, std: 0.00698, params: {'reg_alpha': 15.444444444444445},\n",
       "  mean: 0.79001, std: 0.00662, params: {'reg_alpha': 15.555555555555555},\n",
       "  mean: 0.78969, std: 0.00709, params: {'reg_alpha': 15.666666666666666},\n",
       "  mean: 0.78995, std: 0.00713, params: {'reg_alpha': 15.777777777777779},\n",
       "  mean: 0.79107, std: 0.00591, params: {'reg_alpha': 15.888888888888889},\n",
       "  mean: 0.79075, std: 0.00712, params: {'reg_alpha': 16.0}],\n",
       " {'reg_alpha': 15.888888888888889},\n",
       " 0.79106604585298035)"
      ]
     },
     "execution_count": 72,
     "metadata": {},
     "output_type": "execute_result"
    }
   ],
   "source": [
    "param_test7 = {\n",
    " 'reg_alpha': np.linspace(15, 16, 10)\n",
    "}\n",
    "gsearch7 = GridSearchCV(estimator = XGBClassifier(learning_rate =0.5, n_estimators=136, max_depth=6,\n",
    "    min_child_weight=6, gamma=0, subsample=0.8, colsample_bytree=0.75,\n",
    "    objective= 'binary:logistic', scale_pos_weight=1,seed=27), \n",
    "    param_grid = param_test7, scoring='roc_auc', iid=False, cv=5)\n",
    "gsearch7.fit(train[features],train[target])\n",
    "gsearch7.grid_scores_, gsearch7.best_params_, gsearch7.best_score_"
   ]
  },
  {
   "cell_type": "code",
   "execution_count": 142,
   "metadata": {
    "collapsed": false
   },
   "outputs": [
    {
     "name": "stdout",
     "output_type": "stream",
     "text": [
      "\n",
      "Model Report\n",
      "Accuracy (Train): 0.7319\n",
      "Accuracy (CV): 0.7174\n",
      "AUC Score (Train): 0.805687\n"
     ]
    },
    {
     "ename": "AttributeError",
     "evalue": "'numpy.ndarray' object has no attribute 'as_matrix'",
     "output_type": "error",
     "traceback": [
      "\u001b[0;31m---------------------------------------------------------------------------\u001b[0m",
      "\u001b[0;31mAttributeError\u001b[0m                            Traceback (most recent call last)",
      "\u001b[0;32m<ipython-input-142-e2e07ac35b9c>\u001b[0m in \u001b[0;36m<module>\u001b[0;34m()\u001b[0m\n\u001b[1;32m     11\u001b[0m     scale_pos_weight=1)\n\u001b[1;32m     12\u001b[0m     \u001b[0;31m#seed=27)\u001b[0m\u001b[0;34m\u001b[0m\u001b[0;34m\u001b[0m\u001b[0m\n\u001b[0;32m---> 13\u001b[0;31m \u001b[0mmodelfit\u001b[0m\u001b[0;34m(\u001b[0m\u001b[0mxgb3\u001b[0m\u001b[0;34m,\u001b[0m \u001b[0mtrain\u001b[0m\u001b[0;34m,\u001b[0m \u001b[0mfeatures\u001b[0m\u001b[0;34m,\u001b[0m \u001b[0mtarget\u001b[0m\u001b[0;34m)\u001b[0m\u001b[0;34m\u001b[0m\u001b[0m\n\u001b[0m",
      "\u001b[0;32m<ipython-input-141-a1b0af669157>\u001b[0m in \u001b[0;36mmodelfit\u001b[0;34m(alg, dtrain, features, target, useTrainCV, cv_folds, early_stopping_rounds)\u001b[0m\n\u001b[1;32m     25\u001b[0m     \u001b[0;32mprint\u001b[0m \u001b[0;34m\"Accuracy (CV): %.4g\"\u001b[0m \u001b[0;34m%\u001b[0m \u001b[0mcross_val_score\u001b[0m\u001b[0;34m(\u001b[0m\u001b[0malg\u001b[0m\u001b[0;34m,\u001b[0m \u001b[0mX\u001b[0m\u001b[0;34m,\u001b[0m \u001b[0my\u001b[0m\u001b[0;34m,\u001b[0m \u001b[0mcv\u001b[0m\u001b[0;34m=\u001b[0m\u001b[0;36m5\u001b[0m\u001b[0;34m)\u001b[0m\u001b[0;34m.\u001b[0m\u001b[0mmean\u001b[0m\u001b[0;34m(\u001b[0m\u001b[0;34m)\u001b[0m\u001b[0;34m\u001b[0m\u001b[0m\n\u001b[1;32m     26\u001b[0m     \u001b[0;32mprint\u001b[0m \u001b[0;34m\"AUC Score (Train): %f\"\u001b[0m \u001b[0;34m%\u001b[0m \u001b[0mmetrics\u001b[0m\u001b[0;34m.\u001b[0m\u001b[0mroc_auc_score\u001b[0m\u001b[0;34m(\u001b[0m\u001b[0my\u001b[0m\u001b[0;34m,\u001b[0m \u001b[0malg\u001b[0m\u001b[0;34m.\u001b[0m\u001b[0mpredict_proba\u001b[0m\u001b[0;34m(\u001b[0m\u001b[0mX\u001b[0m\u001b[0;34m.\u001b[0m\u001b[0mas_matrix\u001b[0m\u001b[0;34m(\u001b[0m\u001b[0;34m)\u001b[0m\u001b[0;34m)\u001b[0m\u001b[0;34m[\u001b[0m\u001b[0;34m:\u001b[0m\u001b[0;34m,\u001b[0m\u001b[0;36m1\u001b[0m\u001b[0;34m]\u001b[0m\u001b[0;34m)\u001b[0m\u001b[0;34m\u001b[0m\u001b[0m\n\u001b[0;32m---> 27\u001b[0;31m     \u001b[0;32mprint\u001b[0m \u001b[0;34m\"AUC Score (Test): %f\"\u001b[0m \u001b[0;34m%\u001b[0m \u001b[0mmetrics\u001b[0m\u001b[0;34m.\u001b[0m\u001b[0mroc_auc_score\u001b[0m\u001b[0;34m(\u001b[0m\u001b[0my_test\u001b[0m\u001b[0;34m,\u001b[0m \u001b[0malg\u001b[0m\u001b[0;34m.\u001b[0m\u001b[0mpredict_proba\u001b[0m\u001b[0;34m(\u001b[0m\u001b[0mX_test\u001b[0m\u001b[0;34m.\u001b[0m\u001b[0mas_matrix\u001b[0m\u001b[0;34m(\u001b[0m\u001b[0;34m)\u001b[0m\u001b[0;34m)\u001b[0m\u001b[0;34m[\u001b[0m\u001b[0;34m:\u001b[0m\u001b[0;34m,\u001b[0m\u001b[0;36m1\u001b[0m\u001b[0;34m]\u001b[0m\u001b[0;34m)\u001b[0m\u001b[0;34m\u001b[0m\u001b[0m\n\u001b[0m\u001b[1;32m     28\u001b[0m     \u001b[0;32mprint\u001b[0m \u001b[0;34m\"Best cv iteration n_estimators:\"\u001b[0m\u001b[0;34m,\u001b[0m \u001b[0mcvresult\u001b[0m\u001b[0;34m.\u001b[0m\u001b[0mshape\u001b[0m\u001b[0;34m[\u001b[0m\u001b[0;36m0\u001b[0m\u001b[0;34m]\u001b[0m\u001b[0;34m\u001b[0m\u001b[0m\n\u001b[1;32m     29\u001b[0m \u001b[0;34m\u001b[0m\u001b[0m\n",
      "\u001b[0;31mAttributeError\u001b[0m: 'numpy.ndarray' object has no attribute 'as_matrix'"
     ]
    }
   ],
   "source": [
    "xgb3 = XGBClassifier(\n",
    "    learning_rate =0.05,\n",
    "    n_estimators=1000,\n",
    "    max_depth=6,\n",
    "    min_child_weight=6,\n",
    "    gamma=0.0,\n",
    "    subsample=0.8,\n",
    "    colsample_bytree=0.75,\n",
    "    reg_alpha = 15.89,\n",
    "    objective = 'binary:logistic',\n",
    "    scale_pos_weight=1)\n",
    "    #seed=27)\n",
    "modelfit(xgb3, train, features, target)"
   ]
  },
  {
   "cell_type": "code",
   "execution_count": null,
   "metadata": {
    "collapsed": true
   },
   "outputs": [],
   "source": [
    "Model Report\n",
    "Accuracy (Train): 0.734\n",
    "Accuracy (Test): 0.7217\n",
    "AUC Score (Train): 0.814168\n",
    "AUC Score (Test): 0.790539"
   ]
  },
  {
   "cell_type": "code",
   "execution_count": 118,
   "metadata": {
    "collapsed": false
   },
   "outputs": [
    {
     "data": {
      "text/plain": [
       "([mean: 0.76617, std: 0.01086, params: {'learning_rate': 0.01},\n",
       "  mean: 0.78785, std: 0.00936, params: {'learning_rate': 0.040833333333333333},\n",
       "  mean: 0.79180, std: 0.00859, params: {'learning_rate': 0.07166666666666667},\n",
       "  mean: 0.79215, std: 0.00882, params: {'learning_rate': 0.10249999999999999},\n",
       "  mean: 0.79274, std: 0.00810, params: {'learning_rate': 0.13333333333333333},\n",
       "  mean: 0.79266, std: 0.00823, params: {'learning_rate': 0.16416666666666668},\n",
       "  mean: 0.79287, std: 0.00729, params: {'learning_rate': 0.19500000000000001},\n",
       "  mean: 0.79191, std: 0.00750, params: {'learning_rate': 0.22583333333333336},\n",
       "  mean: 0.79178, std: 0.00770, params: {'learning_rate': 0.25666666666666665},\n",
       "  mean: 0.79212, std: 0.00707, params: {'learning_rate': 0.28750000000000003},\n",
       "  mean: 0.79111, std: 0.00698, params: {'learning_rate': 0.31833333333333336},\n",
       "  mean: 0.79095, std: 0.00719, params: {'learning_rate': 0.34916666666666668},\n",
       "  mean: 0.79182, std: 0.00679, params: {'learning_rate': 0.38},\n",
       "  mean: 0.79083, std: 0.00702, params: {'learning_rate': 0.41083333333333333},\n",
       "  mean: 0.79163, std: 0.00730, params: {'learning_rate': 0.44166666666666671},\n",
       "  mean: 0.79103, std: 0.00703, params: {'learning_rate': 0.47250000000000003},\n",
       "  mean: 0.79081, std: 0.00749, params: {'learning_rate': 0.5033333333333333},\n",
       "  mean: 0.79055, std: 0.00753, params: {'learning_rate': 0.53416666666666668},\n",
       "  mean: 0.79114, std: 0.00725, params: {'learning_rate': 0.56500000000000006},\n",
       "  mean: 0.79036, std: 0.00831, params: {'learning_rate': 0.59583333333333333},\n",
       "  mean: 0.79049, std: 0.00844, params: {'learning_rate': 0.62666666666666671},\n",
       "  mean: 0.79028, std: 0.00868, params: {'learning_rate': 0.65749999999999997},\n",
       "  mean: 0.79075, std: 0.00857, params: {'learning_rate': 0.68833333333333335},\n",
       "  mean: 0.79110, std: 0.00918, params: {'learning_rate': 0.71916666666666673},\n",
       "  mean: 0.79028, std: 0.00902, params: {'learning_rate': 0.75}],\n",
       " {'learning_rate': 0.19500000000000001},\n",
       " 0.79286983772417297)"
      ]
     },
     "execution_count": 118,
     "metadata": {},
     "output_type": "execute_result"
    }
   ],
   "source": [
    "param_test8 = {\n",
    " 'learning_rate': np.linspace(0.01, 0.75, 25)\n",
    "}\n",
    "gsearch8 = GridSearchCV(estimator = XGBClassifier(learning_rate =0.5, n_estimators=136, max_depth=6,\n",
    "    min_child_weight=6, gamma=0, subsample=0.8, colsample_bytree=0.75, reg_alpha = 15.89,\n",
    "    objective= 'binary:logistic', scale_pos_weight=1,seed=27), \n",
    "    param_grid = param_test8, scoring='roc_auc', iid=False, cv=5)\n",
    "gsearch8.fit(train[features],train[target])\n",
    "gsearch8.grid_scores_, gsearch8.best_params_, gsearch8.best_score_"
   ]
  },
  {
   "cell_type": "code",
   "execution_count": null,
   "metadata": {
    "collapsed": true
   },
   "outputs": [],
   "source": []
  }
 ],
 "metadata": {
  "anaconda-cloud": {},
  "kernelspec": {
   "display_name": "Python [Root]",
   "language": "python",
   "name": "Python [Root]"
  },
  "language_info": {
   "codemirror_mode": {
    "name": "ipython",
    "version": 2
   },
   "file_extension": ".py",
   "mimetype": "text/x-python",
   "name": "python",
   "nbconvert_exporter": "python",
   "pygments_lexer": "ipython2",
   "version": "2.7.12"
  }
 },
 "nbformat": 4,
 "nbformat_minor": 0
}
